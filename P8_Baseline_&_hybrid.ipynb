{
  "cells": [
    {
      "cell_type": "code",
      "execution_count": 1,
      "metadata": {
        "colab": {
          "base_uri": "https://localhost:8080/"
        },
        "execution": {
          "iopub.execute_input": "2024-03-05T13:38:30.864808Z",
          "iopub.status.busy": "2024-03-05T13:38:30.864342Z",
          "iopub.status.idle": "2024-03-05T13:39:47.983645Z",
          "shell.execute_reply": "2024-03-05T13:39:47.981625Z",
          "shell.execute_reply.started": "2024-03-05T13:38:30.864773Z"
        },
        "id": "a4qKGKI0TVwl",
        "outputId": "96303232-1f14-447e-a525-59f3d2a9f63f",
        "trusted": true
      },
      "outputs": [],
      "source": [
        "import imgaug\n",
        "import cv2\n",
        "\n",
        "\n",
        "import os\n",
        "\n",
        "\n",
        "from keras.preprocessing import image\n",
        "from keras.optimizers import Adam\n",
        "from keras.callbacks import TensorBoard, ModelCheckpoint, EarlyStopping\n",
        "\n",
        "\n",
        "from keras.utils import plot_model, Sequence\n",
        "from keras.metrics import MeanIoU\n",
        "\n",
        "\n",
        "from keras.models import Model\n",
        "\n",
        "\n",
        "from keras.layers import UpSampling2D, Input, Conv2D, MaxPooling2D, Concatenate\n",
        "import tensorflow.keras as keras\n",
        "import matplotlib.pyplot as plt\n",
        "import random\n",
        "import numpy as np\n",
        "\n",
        "\n",
        "import tensorflow as tf\n",
        "import warnings\n",
        "import mlflow\n",
        "\n",
        "warnings.filterwarnings('ignore')"
      ]
    },
    {
      "cell_type": "markdown",
      "metadata": {
        "id": "CeGwNWphZXFE"
      },
      "source": [
        "# Utils"
      ]
    },
    {
      "cell_type": "code",
      "execution_count": 2,
      "metadata": {
        "execution": {
          "iopub.execute_input": "2024-03-05T14:00:56.362325Z",
          "iopub.status.busy": "2024-03-05T14:00:56.361933Z",
          "iopub.status.idle": "2024-03-05T14:00:56.430641Z",
          "shell.execute_reply": "2024-03-05T14:00:56.429315Z",
          "shell.execute_reply.started": "2024-03-05T14:00:56.362297Z"
        },
        "id": "23ZM7JUPTVwx",
        "trusted": true
      },
      "outputs": [],
      "source": [
        "from tensorflow.keras.utils import Sequence, to_categorical, load_img, img_to_array\n",
        "\n",
        "import imgaug.augmenters as iaa\n",
        "from imgaug.augmentables.segmaps import SegmentationMapsOnImage\n",
        "from PIL import UnidentifiedImageError\n",
        "from collections import namedtuple\n",
        "import utils\n",
        "\n",
        "\n",
        "Label = namedtuple('Label', [\n",
        "    'name', 'id', 'trainId', 'category', 'catId',\n",
        "    'hasInstances', 'ignoreInEval', 'color',\n",
        "])\n",
        "\n",
        "# Exemple de labels (complétez avec l'ensemble complet des labels définis dans votre labels.py)\n",
        "labels = [\n",
        "    #       name                     id    trainId   category            catId     hasInstances   ignoreInEval   color\n",
        "    Label('unlabeled',  0,      255, 'void', 0, False, True, (0,  0,  0)),\n",
        "    Label('ego vehicle',  1,      255, 'void', 0, False, True, (0,  0,  0)),\n",
        "    Label('rectification border',  2,      255,\n",
        "          'void', 0, False, True, (0,  0,  0)),\n",
        "    Label('out of roi',  3,      255, 'void', 0, False, True, (0,  0,  0)),\n",
        "    Label('static',  4,      255, 'void', 0, False, True, (0,  0,  0)),\n",
        "    Label('dynamic',  5,      255, 'void', 0, False, True, (111, 74,  0)),\n",
        "    Label('ground',  6,      255, 'void', 0, False, True, (81,  0, 81)),\n",
        "    Label('road',  7,        0, 'flat', 1, False, False, (128, 64, 128)),\n",
        "    Label('sidewalk',  8,        1, 'flat', 1, False, False, (244, 35, 232)),\n",
        "    Label('parking',  9,      255, 'flat', 1, False, True, (250, 170, 160)),\n",
        "    Label('rail track', 10,      255, 'flat', 1, False, True, (230, 150, 140)),\n",
        "    Label('building', 11,        2, 'construction',\n",
        "          2, False, False, (70, 70, 70)),\n",
        "    Label('wall', 12,        3, 'construction',\n",
        "          2, False, False, (102, 102, 156)),\n",
        "    Label('fence', 13,        4, 'construction',\n",
        "          2, False, False, (190, 153, 153)),\n",
        "    Label('guard rail', 14,      255, 'construction',\n",
        "          2, False, True, (180, 165, 180)),\n",
        "    Label('bridge', 15,      255, 'construction',\n",
        "          2, False, True, (150, 100, 100)),\n",
        "    Label('tunnel', 16,      255, 'construction',\n",
        "          2, False, True, (150, 120, 90)),\n",
        "    Label('pole', 17,        5, 'object', 3, False, False, (153, 153, 153)),\n",
        "    Label('polegroup', 18,      255, 'object',\n",
        "          3, False, True, (153, 153, 153)),\n",
        "    Label('traffic light', 19,        6, 'object',\n",
        "          3, False, False, (250, 170, 30)),\n",
        "    Label('traffic sign', 20,        7, 'object',\n",
        "          3, False, False, (220, 220,  0)),\n",
        "    Label('vegetation', 21,        8, 'nature',\n",
        "          4, False, False, (107, 142, 35)),\n",
        "    Label('terrain', 22,        9, 'nature', 4, False, False, (152, 251, 152)),\n",
        "    Label('sky', 23,       10, 'sky', 5, False, False, (70, 130, 180)),\n",
        "    Label('person', 24,       11, 'human', 6, True, False, (220, 20, 60)),\n",
        "    Label('rider', 25,       12, 'human', 6, True, False, (255,  0,  0)),\n",
        "    Label('car', 26,       13, 'vehicle', 7, True, False, (0,  0, 142)),\n",
        "    Label('truck', 27,       14, 'vehicle', 7, True, False, (0,  0, 70)),\n",
        "    Label('bus', 28,       15, 'vehicle', 7, True, False, (0, 60, 100)),\n",
        "    Label('caravan', 29,      255, 'vehicle', 7, True, True, (0,  0, 90)),\n",
        "    Label('trailer', 30,      255, 'vehicle', 7, True, True, (0,  0, 110)),\n",
        "    Label('train', 31,       16, 'vehicle', 7, True, False, (0, 80, 100)),\n",
        "    Label('motorcycle', 32,       17, 'vehicle', 7, True, False, (0,  0, 230)),\n",
        "    Label('bicycle', 33,       18, 'vehicle', 7, True, False, (119, 11, 32)),\n",
        "    Label('license plate', -1,       -1,\n",
        "          'vehicle', 7, False, True, (0,  0, 142)),\n",
        "]\n",
        "# Création du mapping id vers categoryId\n",
        "id_to_category_id_mapping = {label.id: label.catId for label in labels}\n",
        "\n",
        "\n",
        "class seg_gen(Sequence):\n",
        "    def __init__(self, x_set, y_set, batch_size=16, with_data_augmentation=False, num_classes=8):\n",
        "        self.x, self.y = x_set, y_set\n",
        "        self.num_classes = num_classes\n",
        "        self.batch_size = batch_size\n",
        "        self.with_data_augmentation = with_data_augmentation\n",
        "        if self.with_data_augmentation:\n",
        "            self.augmenter = self._get_augmenter()\n",
        "\n",
        "        if self.with_data_augmentation:\n",
        "            self.augmentation = iaa.Sequential([\n",
        "                iaa.Fliplr(0.5),  # Horizontal flips\n",
        "                iaa.Affine(\n",
        "                    # Random rotations between -10 and 10 degrees\n",
        "                    rotate=(-10, 10),\n",
        "                    # Random shearing between -5 and 5 degrees\n",
        "                    shear=(-5, 5),\n",
        "                    # Random scaling between 80% and 120%\n",
        "                    scale={\"x\": (0.8, 1.2), \"y\": (0.8, 1.2)}\n",
        "                ),\n",
        "                # Gaussian blur with random sigma\n",
        "                iaa.GaussianBlur(sigma=(0, 1.0))\n",
        "            ])\n",
        "\n",
        "    def __len__(self):\n",
        "        return np.ceil(len(self.x) / self.batch_size).astype(int)\n",
        "\n",
        "    def __getitem__(self, idx):\n",
        "        batch_x_paths = self.x[idx *\n",
        "                               self.batch_size:(idx + 1) * self.batch_size]\n",
        "        batch_y_paths = self.y[idx *\n",
        "                               self.batch_size:(idx + 1) * self.batch_size]\n",
        "\n",
        "        batch_x, batch_y = [], []\n",
        "\n",
        "        for x_path, y_path in zip(batch_x_paths, batch_y_paths):\n",
        "            img = self._load_image(x_path)\n",
        "            mask = self._load_mask(y_path)\n",
        "\n",
        "            if self.with_data_augmentation:\n",
        "                img, mask = self._augment_image_and_mask(img, mask)\n",
        "\n",
        "            batch_x.append(img)\n",
        "            batch_y.append(mask)\n",
        "\n",
        "        return np.array(batch_x), np.array(batch_y)\n",
        "\n",
        "    def _load_image(self, file_name):\n",
        "        try:\n",
        "            img = load_img(file_name, target_size=(256, 256))\n",
        "            img = img_to_array(img)/255\n",
        "            return img\n",
        "        except UnidentifiedImageError:\n",
        "            print(f\"Erreur en chargeant l'image : {file_name}\")\n",
        "            raise\n",
        "\n",
        "    def _load_mask(self, mask_file):\n",
        "        mask = load_img(mask_file, color_mode='grayscale',\n",
        "                        target_size=(256, 256))\n",
        "        mask = img_to_array(mask).astype(int)\n",
        "\n",
        "        mapped_mask = self._map_labels_to_classes(mask[:, :, 0])\n",
        "\n",
        "        one_hot_mask = to_categorical(\n",
        "            mapped_mask, num_classes=self.num_classes)\n",
        "\n",
        "        return one_hot_mask\n",
        "\n",
        "    def _map_labels_to_classes(self, mask):\n",
        "\n",
        "        id_to_category_id_mapping = {\n",
        "            0: 0, 1: 0, 2: 0, 3: 0, 4: 0, 5: 0, 6: 0, 7: 1, 8: 1, 9: 1, 10: 1, 11: 2,\n",
        "            12: 2, 13: 2, 14: 2, 15: 2, 16: 2, 17: 3, 18: 3, 19: 3, 20: 3, 21: 4,\n",
        "            22: 4, 23: 5, 24: 6, 25: 6, 26: 7, 27: 7, 28: 7, 29: 7, 30: 7, 31: 7,\n",
        "            32: 7, 33: 7, -1: 7}\n",
        "\n",
        "        mapped_mask = np.vectorize(id_to_category_id_mapping.get)(mask)\n",
        "\n",
        "        return mapped_mask\n",
        "\n",
        "    def _get_augmenter(self):\n",
        "        \"\"\" Create augmentation sequence\"\"\"\n",
        "        return iaa.Sequential([\n",
        "            iaa.Fliplr(0.5),\n",
        "            iaa.Affine(rotate=(-10, 20)),\n",
        "            iaa.Multiply((0.8, 1.2))\n",
        "        ])\n",
        "\n",
        "    def _augment_image_and_mask(self, image, mask):\n",
        "        # Assurez-vous que le masque est booléen ou entier\n",
        "        mask = mask.astype(np.int32)\n",
        "\n",
        "        # Convertissez le masque en SegmentationMapsOnImage\n",
        "        segmap = SegmentationMapsOnImage(mask, shape=image.shape)\n",
        "\n",
        "        # Appliquez l'augmentation à l'image et au masque\n",
        "        image_aug, segmaps_aug = self.augmenter(\n",
        "            image=image.astype(np.uint8), segmentation_maps=segmap)\n",
        "\n",
        "        # Convertissez le résultat en format approprié\n",
        "        image_aug = image_aug.astype(np.float32) / 255.0\n",
        "        mask_aug = segmaps_aug.get_arr().astype(np.float32)\n",
        "\n",
        "        return image_aug, mask_aug"
      ]
    },
    {
      "cell_type": "markdown",
      "metadata": {
        "id": "3Q5P9KScabdQ"
      },
      "source": [
        "## Mapping labelsId-catIds"
      ]
    },
    {
      "cell_type": "code",
      "execution_count": 3,
      "metadata": {
        "colab": {
          "base_uri": "https://localhost:8080/"
        },
        "id": "iyuWnB4zTVwn",
        "outputId": "f024288e-e347-478a-8661-9a9c7255d512",
        "trusted": true
      },
      "outputs": [
        {
          "name": "stdout",
          "output_type": "stream",
          "text": [
            "Images répertoriées: 2975n/nMasques répertoriés: 2975\n",
            "Nombre d/'images de validation : 500n/nNombre de masques de validation répertoriés : 500\n",
            "Nombre d/'images de test : 1525n/nNombre de masques de test : 1525\n"
          ]
        }
      ],
      "source": [
        "# Load images and masks\n",
        "image_dir = './Datasets/Images/leftImg8bit/train/'\n",
        "mask_dir = './Datasets/Masks/gtFine/train'\n",
        "\n",
        "image_val_dir = './Datasets/Images/leftImg8bit/val'\n",
        "mask_val_dir = './Datasets/Masks/gtFine/val'\n",
        "\n",
        "image_test_dir = \"./Datasets/Images/leftImg8bit/test\"\n",
        "mask_test_dir = './Datasets/Masks/gtFine/test'\n",
        "\n",
        "image_list = [file for file in utils.get_file_list(\n",
        "    image_dir) if file.endswith('_leftImg8bit.png')]\n",
        "mask_list = [file for file in utils.get_file_list(\n",
        "    mask_dir) if file.endswith('_labelIds.png')]\n",
        "\n",
        "image_val_list = [file for file in utils.get_file_list(\n",
        "    image_val_dir) if file.endswith('_leftImg8bit.png')]\n",
        "mask_val_list = [file for file in utils.get_file_list(\n",
        "    mask_val_dir) if file.endswith('_labelIds.png')]\n",
        "\n",
        "image_test_list = [file for file in utils.get_file_list(\n",
        "    image_test_dir) if file.endswith('_leftImg8bit.png')]\n",
        "mask_test_list = [file for file in utils.get_file_list(\n",
        "    mask_test_dir) if file.endswith('_labelIds.png')]\n",
        "\n",
        "print(\n",
        "    f'Images répertoriées: {len(image_list)}n/nMasques répertoriés: {len(mask_list)}')\n",
        "print(\n",
        "    f\"Nombre d/'images de validation : {len(image_val_list)}n/nNombre de masques de validation répertoriés : {len(mask_val_list)}\")\n",
        "print(\n",
        "    f\"Nombre d/'images de test : {len(image_test_list)}n/nNombre de masques de test : {len(mask_test_list)}\")\n",
        "\n",
        "batch_size = 16\n",
        "samples = len(image_list)\n",
        "steps = samples // batch_size\n",
        "img_height, img_width = 256, 256\n",
        "classes = 8\n",
        "filters_n = 64"
      ]
    },
    {
      "cell_type": "code",
      "execution_count": 4,
      "metadata": {
        "colab": {
          "base_uri": "https://localhost:8080/",
          "height": 172
        },
        "execution": {
          "iopub.execute_input": "2024-03-05T08:04:53.952816Z",
          "iopub.status.busy": "2024-03-05T08:04:53.952488Z",
          "iopub.status.idle": "2024-03-05T08:04:54.859931Z",
          "shell.execute_reply": "2024-03-05T08:04:54.85886Z",
          "shell.execute_reply.started": "2024-03-05T08:04:53.952789Z"
        },
        "id": "rwgGd-E2TVwp",
        "outputId": "2469bd5e-66d3-4a71-faac-a7ce564a0110",
        "trusted": true
      },
      "outputs": [
        {
          "data": {
            "image/png": "[encoded data removed]",
            "text/plain": [
              "<Figure size 640x480 with 2 Axes>"
            ]
          },
          "metadata": {},
          "output_type": "display_data"
        }
      ],
      "source": [
        "# Valide le chargement des données par visualisation d'un échantillon aléatoire\n",
        "i = np.random.randint(0, len(image_list))\n",
        "\n",
        "plt.subplot(1, 2, 1)\n",
        "plt.imshow(load_img(image_list[i]))\n",
        "plt.axis('off')\n",
        "plt.subplot(1, 2, 2)\n",
        "plt.imshow(load_img(mask_list[i]))\n",
        "plt.axis('off')\n",
        "plt.title(f\"Visualisation de l'image {i} et du masque correspondant\")\n",
        "plt.show()"
      ]
    },
    {
      "cell_type": "markdown",
      "metadata": {
        "id": "b-INdGL5TVwy"
      },
      "source": [
        "## Modélisation Seg_gen + entrainement\n"
      ]
    },
    {
      "cell_type": "code",
      "execution_count": 6,
      "metadata": {},
      "outputs": [
        {
          "data": {
            "text/plain": [
              "3945"
            ]
          },
          "execution_count": 6,
          "metadata": {},
          "output_type": "execute_result"
        }
      ],
      "source": [
        "import gc\n",
        "gc.collect()"
      ]
    },
    {
      "cell_type": "code",
      "execution_count": 5,
      "metadata": {
        "colab": {
          "base_uri": "https://localhost:8080/"
        },
        "execution": {
          "iopub.execute_input": "2024-03-05T08:26:59.50085Z",
          "iopub.status.busy": "2024-03-05T08:26:59.499957Z",
          "iopub.status.idle": "2024-03-05T08:26:59.508053Z",
          "shell.execute_reply": "2024-03-05T08:26:59.50712Z",
          "shell.execute_reply.started": "2024-03-05T08:26:59.500815Z"
        },
        "id": "NA0lYTcFTVwy",
        "outputId": "8fe68b32-f5e5-4736-926b-88d70726612c",
        "trusted": true
      },
      "outputs": [
        {
          "name": "stdout",
          "output_type": "stream",
          "text": [
            "DataGenerator OK\n"
          ]
        }
      ],
      "source": [
        "# Sans data augmentation\n",
        "train_gen = seg_gen(image_list, mask_list, batch_size=32,\n",
        "                    with_data_augmentation=False)\n",
        "\n",
        "\n",
        "test_gen = seg_gen(image_test_list, mask_test_list,\n",
        "                   batch_size=32, with_data_augmentation=False)\n",
        "\n",
        "\n",
        "val_gen = seg_gen(image_val_list, mask_val_list,\n",
        "                  batch_size=32, with_data_augmentation=False)\n",
        "\n",
        "print(\"DataGenerator OK\")"
      ]
    },
    {
      "cell_type": "code",
      "execution_count": 6,
      "metadata": {
        "execution": {
          "iopub.execute_input": "2024-03-05T13:42:48.16228Z",
          "iopub.status.busy": "2024-03-05T13:42:48.1613Z",
          "iopub.status.idle": "2024-03-05T13:42:48.170283Z",
          "shell.execute_reply": "2024-03-05T13:42:48.168669Z",
          "shell.execute_reply.started": "2024-03-05T13:42:48.162234Z"
        },
        "id": "pCMPpUmPTVwy",
        "trusted": true
      },
      "outputs": [],
      "source": [
        "# Définition de dice_loss\n",
        "from tensorflow.keras.utils import register_keras_serializable\n",
        "\n",
        "\n",
        "@register_keras_serializable()\n",
        "def dice_loss(y_true, y_pred, smooth=1e-6):\n",
        "    \"\"\"\n",
        "   Fonction de perte de Dice pour la segmentation sémantique.\n",
        "    Args:\n",
        "    y_true (tensor): Tensor des étiquettes réelles.\n",
        "    y_pred (tensor): Tensor des prédictions du modèle.\n",
        "    smooth (float): Terme de lissage pour éviter la division par zéro.\n",
        "    Returns:\n",
        "    float: Perte de Dice.\n",
        "    \"\"\"\n",
        "\n",
        "    # Aplatir les tensors\n",
        "\n",
        "    intersection = tf.reduce_sum(y_true * y_pred, axis=[1, 2])\n",
        "\n",
        "    union = tf.reduce_sum(\n",
        "        y_true, axis=[1, 2]) + tf.reduce_sum(y_pred, axis=[1, 2])\n",
        "\n",
        "    dice = (2. * intersection + smooth) / (union + smooth)\n",
        "\n",
        "    dice_loss = 1 - tf.reduce_mean(dice, axis=-1)\n",
        "\n",
        "    return dice_loss"
      ]
    },
    {
      "cell_type": "markdown",
      "metadata": {},
      "source": [
        "# Modélisation"
      ]
    },
    {
      "cell_type": "markdown",
      "metadata": {},
      "source": [
        "## Baseline"
      ]
    },
    {
      "cell_type": "code",
      "execution_count": 7,
      "metadata": {
        "execution": {
          "iopub.execute_input": "2024-03-05T08:27:37.02892Z",
          "iopub.status.busy": "2024-03-05T08:27:37.028537Z",
          "iopub.status.idle": "2024-03-05T09:36:40.480086Z",
          "shell.execute_reply": "2024-03-05T09:36:40.479134Z",
          "shell.execute_reply.started": "2024-03-05T08:27:37.028891Z"
        },
        "id": "vtdQXp8gTVwy",
        "trusted": true
      },
      "outputs": [
        {
          "name": "stdout",
          "output_type": "stream",
          "text": [
            "Callbacks OK\n"
          ]
        },
        {
          "name": "stderr",
          "output_type": "stream",
          "text": [
            "2024/04/20 17:09:28 INFO mlflow.tracking.fluent: Experiment with name 'Baseline_training' does not exist. Creating a new experiment.\n",
            "2024/04/20 17:09:28 WARNING mlflow.utils.autologging_utils: You are using an unsupported version of keras. If you encounter errors during autologging, try upgrading / downgrading keras to a supported version, or try upgrading MLflow.\n",
            "2024/04/20 17:09:28 INFO mlflow.tracking.fluent: Autologging successfully enabled for keras.\n",
            "2024/04/20 17:09:28 WARNING mlflow.utils.autologging_utils: You are using an unsupported version of tensorflow. If you encounter errors during autologging, try upgrading / downgrading tensorflow to a supported version, or try upgrading MLflow.\n",
            "2024/04/20 17:09:28 INFO mlflow.tracking.fluent: Autologging successfully enabled for tensorflow.\n",
            "2024/04/20 17:09:28 WARNING mlflow.spark: With Pyspark >= 3.2, PYSPARK_PIN_THREAD environment variable must be set to false for Spark datasource autologging to work.\n",
            "2024/04/20 17:09:28 INFO mlflow.tracking.fluent: Autologging successfully enabled for pyspark.\n",
            "2024/04/20 17:09:29 INFO mlflow.utils.autologging_utils: Created MLflow autologging run with ID '0b3050f457e945199b647b39bd6241f0', which will track hyperparameters, performance metrics, model artifacts, and lineage information for the current tensorflow workflow\n",
            "2024/04/20 17:09:34 WARNING mlflow.tensorflow: Unrecognized dataset type <class '__main__.seg_gen'>. Dataset logging skipped.\n",
            "2024/04/20 17:09:34 WARNING mlflow.tensorflow: Unrecognized dataset type <class '__main__.seg_gen'>. Dataset logging skipped.\n"
          ]
        },
        {
          "data": {
            "text/html": [
              "<pre style=\"white-space:pre;overflow-x:auto;line-height:normal;font-family:Menlo,'DejaVu Sans Mono',consolas,'Courier New',monospace\"></pre>\n"
            ],
            "text/plain": []
          },
          "metadata": {},
          "output_type": "display_data"
        },
        {
          "name": "stderr",
          "output_type": "stream",
          "text": [
            "2024/04/20 17:09:44 WARNING mlflow.utils.autologging_utils: Encountered unexpected error during autologging: Metric 'desktop.ini' is malformed; persisted metric data contained 1 fields. Expected 2 or 3 fields.\n"
          ]
        },
        {
          "name": "stdout",
          "output_type": "stream",
          "text": [
            "Epoch 1/10\n",
            "\u001b[1m93/93\u001b[0m \u001b[32m━━━━━━━━━━━━━━━━━━━━\u001b[0m\u001b[37m\u001b[0m \u001b[1m0s\u001b[0m 22s/step - accuracy: 0.4153 - loss: 0.8445 - mean_io_u_1: 0.4502 \n",
            "Epoch 1: val_loss improved from inf to 0.70602, saving model to baseline_model.keras\n"
          ]
        },
        {
          "name": "stderr",
          "output_type": "stream",
          "text": [
            "2024/04/20 17:47:54 WARNING mlflow.utils.autologging_utils: Encountered unexpected error during autologging: Metric 'desktop.ini' is malformed; persisted metric data contained 1 fields. Expected 2 or 3 fields.\n"
          ]
        },
        {
          "name": "stdout",
          "output_type": "stream",
          "text": [
            "\u001b[1m93/93\u001b[0m \u001b[32m━━━━━━━━━━━━━━━━━━━━\u001b[0m\u001b[37m\u001b[0m \u001b[1m2290s\u001b[0m 24s/step - accuracy: 0.4160 - loss: 0.8439 - mean_io_u_1: 0.4507 - val_accuracy: 0.5729 - val_loss: 0.7060 - val_mean_io_u_1: 0.6211\n",
            "Epoch 2/10\n",
            "\u001b[1m93/93\u001b[0m \u001b[32m━━━━━━━━━━━━━━━━━━━━\u001b[0m\u001b[37m\u001b[0m \u001b[1m0s\u001b[0m 21s/step - accuracy: 0.5778 - loss: 0.6939 - mean_io_u_1: 0.6077 \n",
            "Epoch 2: val_loss improved from 0.70602 to 0.67002, saving model to baseline_model.keras\n"
          ]
        },
        {
          "name": "stderr",
          "output_type": "stream",
          "text": [
            "2024/04/20 18:24:05 WARNING mlflow.utils.autologging_utils: Encountered unexpected error during autologging: Metric 'desktop.ini' is malformed; persisted metric data contained 1 fields. Expected 2 or 3 fields.\n"
          ]
        },
        {
          "name": "stdout",
          "output_type": "stream",
          "text": [
            "\u001b[1m93/93\u001b[0m \u001b[32m━━━━━━━━━━━━━━━━━━━━\u001b[0m\u001b[37m\u001b[0m \u001b[1m2171s\u001b[0m 23s/step - accuracy: 0.5779 - loss: 0.6938 - mean_io_u_1: 0.6077 - val_accuracy: 0.6084 - val_loss: 0.6700 - val_mean_io_u_1: 0.6298\n",
            "Epoch 3/10\n",
            "\u001b[1m93/93\u001b[0m \u001b[32m━━━━━━━━━━━━━━━━━━━━\u001b[0m\u001b[37m\u001b[0m \u001b[1m0s\u001b[0m 21s/step - accuracy: 0.6146 - loss: 0.6604 - mean_io_u_1: 0.6309 \n",
            "Epoch 3: val_loss improved from 0.67002 to 0.59846, saving model to baseline_model.keras\n"
          ]
        },
        {
          "name": "stderr",
          "output_type": "stream",
          "text": [
            "WARNING:absl:You are saving your model as an HDF5 file via `model.save()` or `keras.saving.save_model(model)`. This file format is considered legacy. We recommend using instead the native Keras format, e.g. `model.save('my_model.keras')` or `keras.saving.save_model(model, 'my_model.keras')`. \n"
          ]
        },
        {
          "name": "stdout",
          "output_type": "stream",
          "text": [
            "\u001b[1m93/93\u001b[0m \u001b[32m━━━━━━━━━━━━━━━━━━━━\u001b[0m\u001b[37m\u001b[0m \u001b[1m2156s\u001b[0m 23s/step - accuracy: 0.6149 - loss: 0.6602 - mean_io_u_1: 0.6311 - val_accuracy: 0.7001 - val_loss: 0.5985 - val_mean_io_u_1: 0.7176\n",
            "Epoch 4/10\n",
            "\u001b[1m93/93\u001b[0m \u001b[32m━━━━━━━━━━━━━━━━━━━━\u001b[0m\u001b[37m\u001b[0m \u001b[1m0s\u001b[0m 20s/step - accuracy: 0.6820 - loss: 0.6014 - mean_io_u_1: 0.7001 \n",
            "Epoch 4: val_loss improved from 0.59846 to 0.58146, saving model to baseline_model.keras\n"
          ]
        },
        {
          "name": "stderr",
          "output_type": "stream",
          "text": [
            "WARNING:absl:You are saving your model as an HDF5 file via `model.save()` or `keras.saving.save_model(model)`. This file format is considered legacy. We recommend using instead the native Keras format, e.g. `model.save('my_model.keras')` or `keras.saving.save_model(model, 'my_model.keras')`. \n"
          ]
        },
        {
          "name": "stdout",
          "output_type": "stream",
          "text": [
            "\u001b[1m93/93\u001b[0m \u001b[32m━━━━━━━━━━━━━━━━━━━━\u001b[0m\u001b[37m\u001b[0m \u001b[1m2050s\u001b[0m 22s/step - accuracy: 0.6821 - loss: 0.6014 - mean_io_u_1: 0.7002 - val_accuracy: 0.6713 - val_loss: 0.5815 - val_mean_io_u_1: 0.7073\n",
            "Epoch 5/10\n",
            "\u001b[1m93/93\u001b[0m \u001b[32m━━━━━━━━━━━━━━━━━━━━\u001b[0m\u001b[37m\u001b[0m \u001b[1m0s\u001b[0m 20s/step - accuracy: 0.7080 - loss: 0.5778 - mean_io_u_1: 0.7245 \n",
            "Epoch 5: val_loss improved from 0.58146 to 0.56129, saving model to baseline_model.keras\n"
          ]
        },
        {
          "name": "stderr",
          "output_type": "stream",
          "text": [
            "WARNING:absl:You are saving your model as an HDF5 file via `model.save()` or `keras.saving.save_model(model)`. This file format is considered legacy. We recommend using instead the native Keras format, e.g. `model.save('my_model.keras')` or `keras.saving.save_model(model, 'my_model.keras')`. \n"
          ]
        },
        {
          "name": "stdout",
          "output_type": "stream",
          "text": [
            "\u001b[1m93/93\u001b[0m \u001b[32m━━━━━━━━━━━━━━━━━━━━\u001b[0m\u001b[37m\u001b[0m \u001b[1m2043s\u001b[0m 22s/step - accuracy: 0.7080 - loss: 0.5777 - mean_io_u_1: 0.7245 - val_accuracy: 0.7152 - val_loss: 0.5613 - val_mean_io_u_1: 0.7376\n",
            "Epoch 6/10\n",
            "\u001b[1m93/93\u001b[0m \u001b[32m━━━━━━━━━━━━━━━━━━━━\u001b[0m\u001b[37m\u001b[0m \u001b[1m0s\u001b[0m 20s/step - accuracy: 0.7170 - loss: 0.5731 - mean_io_u_1: 0.7339 \n",
            "Epoch 6: val_loss did not improve from 0.56129\n",
            "\u001b[1m93/93\u001b[0m \u001b[32m━━━━━━━━━━━━━━━━━━━━\u001b[0m\u001b[37m\u001b[0m \u001b[1m2053s\u001b[0m 22s/step - accuracy: 0.7170 - loss: 0.5731 - mean_io_u_1: 0.7339 - val_accuracy: 0.7070 - val_loss: 0.5691 - val_mean_io_u_1: 0.7326\n",
            "Epoch 7/10\n",
            "\u001b[1m93/93\u001b[0m \u001b[32m━━━━━━━━━━━━━━━━━━━━\u001b[0m\u001b[37m\u001b[0m \u001b[1m0s\u001b[0m 20s/step - accuracy: 0.7224 - loss: 0.5638 - mean_io_u_1: 0.7389 \n",
            "Epoch 7: val_loss improved from 0.56129 to 0.55569, saving model to baseline_model.keras\n"
          ]
        },
        {
          "name": "stderr",
          "output_type": "stream",
          "text": [
            "WARNING:absl:You are saving your model as an HDF5 file via `model.save()` or `keras.saving.save_model(model)`. This file format is considered legacy. We recommend using instead the native Keras format, e.g. `model.save('my_model.keras')` or `keras.saving.save_model(model, 'my_model.keras')`. \n"
          ]
        },
        {
          "name": "stdout",
          "output_type": "stream",
          "text": [
            "\u001b[1m93/93\u001b[0m \u001b[32m━━━━━━━━━━━━━━━━━━━━\u001b[0m\u001b[37m\u001b[0m \u001b[1m2050s\u001b[0m 22s/step - accuracy: 0.7225 - loss: 0.5637 - mean_io_u_1: 0.7389 - val_accuracy: 0.7253 - val_loss: 0.5557 - val_mean_io_u_1: 0.7398\n",
            "Epoch 8/10\n",
            "\u001b[1m93/93\u001b[0m \u001b[32m━━━━━━━━━━━━━━━━━━━━\u001b[0m\u001b[37m\u001b[0m \u001b[1m0s\u001b[0m 20s/step - accuracy: 0.7513 - loss: 0.5327 - mean_io_u_1: 0.7610 \n",
            "Epoch 8: val_loss improved from 0.55569 to 0.52377, saving model to baseline_model.keras\n"
          ]
        },
        {
          "name": "stderr",
          "output_type": "stream",
          "text": [
            "WARNING:absl:You are saving your model as an HDF5 file via `model.save()` or `keras.saving.save_model(model)`. This file format is considered legacy. We recommend using instead the native Keras format, e.g. `model.save('my_model.keras')` or `keras.saving.save_model(model, 'my_model.keras')`. \n"
          ]
        },
        {
          "name": "stdout",
          "output_type": "stream",
          "text": [
            "\u001b[1m93/93\u001b[0m \u001b[32m━━━━━━━━━━━━━━━━━━━━\u001b[0m\u001b[37m\u001b[0m \u001b[1m2044s\u001b[0m 22s/step - accuracy: 0.7514 - loss: 0.5326 - mean_io_u_1: 0.7611 - val_accuracy: 0.7452 - val_loss: 0.5238 - val_mean_io_u_1: 0.7573\n",
            "Epoch 9/10\n",
            "\u001b[1m93/93\u001b[0m \u001b[32m━━━━━━━━━━━━━━━━━━━━\u001b[0m\u001b[37m\u001b[0m \u001b[1m0s\u001b[0m 94s/step - accuracy: 0.7646 - loss: 0.5145 - mean_io_u_1: 0.7706  \n",
            "Epoch 9: val_loss improved from 0.52377 to 0.50886, saving model to baseline_model.keras\n"
          ]
        },
        {
          "name": "stderr",
          "output_type": "stream",
          "text": [
            "WARNING:absl:You are saving your model as an HDF5 file via `model.save()` or `keras.saving.save_model(model)`. This file format is considered legacy. We recommend using instead the native Keras format, e.g. `model.save('my_model.keras')` or `keras.saving.save_model(model, 'my_model.keras')`. \n"
          ]
        },
        {
          "name": "stdout",
          "output_type": "stream",
          "text": [
            "\u001b[1m93/93\u001b[0m \u001b[32m━━━━━━━━━━━━━━━━━━━━\u001b[0m\u001b[37m\u001b[0m \u001b[1m8806s\u001b[0m 95s/step - accuracy: 0.7647 - loss: 0.5145 - mean_io_u_1: 0.7707 - val_accuracy: 0.7666 - val_loss: 0.5089 - val_mean_io_u_1: 0.7758\n",
            "Epoch 10/10\n",
            "\u001b[1m93/93\u001b[0m \u001b[32m━━━━━━━━━━━━━━━━━━━━\u001b[0m\u001b[37m\u001b[0m \u001b[1m0s\u001b[0m 24s/step - accuracy: 0.7851 - loss: 0.5037 - mean_io_u_1: 0.7871 \n",
            "Epoch 10: val_loss improved from 0.50886 to 0.49978, saving model to baseline_model.keras\n"
          ]
        },
        {
          "name": "stderr",
          "output_type": "stream",
          "text": [
            "WARNING:absl:You are saving your model as an HDF5 file via `model.save()` or `keras.saving.save_model(model)`. This file format is considered legacy. We recommend using instead the native Keras format, e.g. `model.save('my_model.keras')` or `keras.saving.save_model(model, 'my_model.keras')`. \n"
          ]
        },
        {
          "name": "stdout",
          "output_type": "stream",
          "text": [
            "\u001b[1m93/93\u001b[0m \u001b[32m━━━━━━━━━━━━━━━━━━━━\u001b[0m\u001b[37m\u001b[0m \u001b[1m2449s\u001b[0m 26s/step - accuracy: 0.7850 - loss: 0.5037 - mean_io_u_1: 0.7871 - val_accuracy: 0.7746 - val_loss: 0.4998 - val_mean_io_u_1: 0.7796\n"
          ]
        },
        {
          "name": "stderr",
          "output_type": "stream",
          "text": [
            "2024/04/21 00:58:15 WARNING mlflow.tensorflow: Failed to infer model signature: could not sample data to infer model signature: unsupported operand type(s) for *: 'slice' and 'int'\n",
            "2024/04/21 00:58:15 WARNING mlflow.tensorflow: You are saving a TensorFlow Core model or Keras model without a signature. Inference with mlflow.pyfunc.spark_udf() will not work unless the model's pyfunc representation accepts pandas DataFrames as inference inputs.\n"
          ]
        },
        {
          "name": "stdout",
          "output_type": "stream",
          "text": [
            "#------------Entrainement terminé-----------------\n"
          ]
        }
      ],
      "source": [
        "# Construction et entrainement du modèle baseline\n",
        "meanIoU = MeanIoU(num_classes=classes)\n",
        "\n",
        "mc_base = ModelCheckpoint(mode='min', filepath='baseline_model.keras',\n",
        "                          save_freq=\"epoch\", monitor='val_loss',\n",
        "                          save_best_only=True, save_weights_only=False,\n",
        "                          verbose=1)\n",
        "es_base = EarlyStopping(mode='min', monitor='val_loss',\n",
        "                        patience=3, verbose=1)\n",
        "\n",
        "\n",
        "print(\"Callbacks OK\")\n",
        "\n",
        "# Création du modèle baseline\n",
        "\n",
        "\n",
        "baseline_model = utils.baseline_model(img_height, img_width, classes)\n",
        "baseline_model.compile(optimizer='adam', loss=dice_loss,\n",
        "                       metrics=[MeanIoU(num_classes=8), 'accuracy'])\n",
        "\n",
        "\n",
        "callbacks_base = [mc_base, es_base]\n",
        "mlflow.set_experiment('Baseline_training')\n",
        "mlflow.autolog()\n",
        "baseline_model.fit(train_gen,\n",
        "                   epochs=10,\n",
        "                   validation_data=val_gen,\n",
        "                   callbacks=callbacks_base\n",
        "                   )\n",
        "\n",
        "print(\"#------------Entrainement terminé-----------------\")"
      ]
    },
    {
      "cell_type": "markdown",
      "metadata": {
        "id": "eLO_FZr5E5gV"
      },
      "source": [
        "# Visualisation\n"
      ]
    },
    {
      "cell_type": "code",
      "execution_count": null,
      "metadata": {},
      "outputs": [],
      "source": [
        "loaded_model = tf.keras.models.load_model(\n",
        "    'baseline_simple.keras', custom_objects={'dice_loss': dice_loss})"
      ]
    },
    {
      "cell_type": "code",
      "execution_count": 8,
      "metadata": {},
      "outputs": [
        {
          "name": "stderr",
          "output_type": "stream",
          "text": [
            "WARNING:absl:The `save_format` argument is deprecated in Keras 3. We recommend removing this argument as it can be inferred from the file path. Received: save_format=tf\n"
          ]
        }
      ],
      "source": [
        "baseline_model.save('baseline_simple.keras', save_format='tf')"
      ]
    },
    {
      "cell_type": "code",
      "execution_count": 10,
      "metadata": {},
      "outputs": [
        {
          "data": {
            "text/html": [
              "<pre style=\"white-space:pre;overflow-x:auto;line-height:normal;font-family:Menlo,'DejaVu Sans Mono',consolas,'Courier New',monospace\"><span style=\"font-weight: bold\">Model: \"functional_1\"</span>\n",
              "</pre>\n"
            ],
            "text/plain": [
              "\u001b[1mModel: \"functional_1\"\u001b[0m\n"
            ]
          },
          "metadata": {},
          "output_type": "display_data"
        },
        {
          "data": {
            "text/html": [
              "<pre style=\"white-space:pre;overflow-x:auto;line-height:normal;font-family:Menlo,'DejaVu Sans Mono',consolas,'Courier New',monospace\">┏━━━━━━━━━━━━━━━━━━━━━┳━━━━━━━━━━━━━━━━━━━┳━━━━━━━━━━━━┳━━━━━━━━━━━━━━━━━━━┓\n",
              "┃<span style=\"font-weight: bold\"> Layer (type)        </span>┃<span style=\"font-weight: bold\"> Output Shape      </span>┃<span style=\"font-weight: bold\">    Param # </span>┃<span style=\"font-weight: bold\"> Connected to      </span>┃\n",
              "┡━━━━━━━━━━━━━━━━━━━━━╇━━━━━━━━━━━━━━━━━━━╇━━━━━━━━━━━━╇━━━━━━━━━━━━━━━━━━━┩\n",
              "│ input_layer         │ (<span style=\"color: #00d7ff; text-decoration-color: #00d7ff\">None</span>, <span style=\"color: #00af00; text-decoration-color: #00af00\">256</span>, <span style=\"color: #00af00; text-decoration-color: #00af00\">256</span>,  │          <span style=\"color: #00af00; text-decoration-color: #00af00\">0</span> │ -                 │\n",
              "│ (<span style=\"color: #0087ff; text-decoration-color: #0087ff\">InputLayer</span>)        │ <span style=\"color: #00af00; text-decoration-color: #00af00\">3</span>)                │            │                   │\n",
              "├─────────────────────┼───────────────────┼────────────┼───────────────────┤\n",
              "│ conv2d (<span style=\"color: #0087ff; text-decoration-color: #0087ff\">Conv2D</span>)     │ (<span style=\"color: #00d7ff; text-decoration-color: #00d7ff\">None</span>, <span style=\"color: #00af00; text-decoration-color: #00af00\">256</span>, <span style=\"color: #00af00; text-decoration-color: #00af00\">256</span>,  │      <span style=\"color: #00af00; text-decoration-color: #00af00\">1,792</span> │ input_layer[<span style=\"color: #00af00; text-decoration-color: #00af00\">0</span>][<span style=\"color: #00af00; text-decoration-color: #00af00\">0</span>] │\n",
              "│                     │ <span style=\"color: #00af00; text-decoration-color: #00af00\">64</span>)               │            │                   │\n",
              "├─────────────────────┼───────────────────┼────────────┼───────────────────┤\n",
              "│ max_pooling2d       │ (<span style=\"color: #00d7ff; text-decoration-color: #00d7ff\">None</span>, <span style=\"color: #00af00; text-decoration-color: #00af00\">128</span>, <span style=\"color: #00af00; text-decoration-color: #00af00\">128</span>,  │          <span style=\"color: #00af00; text-decoration-color: #00af00\">0</span> │ conv2d[<span style=\"color: #00af00; text-decoration-color: #00af00\">0</span>][<span style=\"color: #00af00; text-decoration-color: #00af00\">0</span>]      │\n",
              "│ (<span style=\"color: #0087ff; text-decoration-color: #0087ff\">MaxPooling2D</span>)      │ <span style=\"color: #00af00; text-decoration-color: #00af00\">64</span>)               │            │                   │\n",
              "├─────────────────────┼───────────────────┼────────────┼───────────────────┤\n",
              "│ conv2d_1 (<span style=\"color: #0087ff; text-decoration-color: #0087ff\">Conv2D</span>)   │ (<span style=\"color: #00d7ff; text-decoration-color: #00d7ff\">None</span>, <span style=\"color: #00af00; text-decoration-color: #00af00\">128</span>, <span style=\"color: #00af00; text-decoration-color: #00af00\">128</span>,  │     <span style=\"color: #00af00; text-decoration-color: #00af00\">73,856</span> │ max_pooling2d[<span style=\"color: #00af00; text-decoration-color: #00af00\">0</span>]… │\n",
              "│                     │ <span style=\"color: #00af00; text-decoration-color: #00af00\">128</span>)              │            │                   │\n",
              "├─────────────────────┼───────────────────┼────────────┼───────────────────┤\n",
              "│ max_pooling2d_1     │ (<span style=\"color: #00d7ff; text-decoration-color: #00d7ff\">None</span>, <span style=\"color: #00af00; text-decoration-color: #00af00\">64</span>, <span style=\"color: #00af00; text-decoration-color: #00af00\">64</span>,    │          <span style=\"color: #00af00; text-decoration-color: #00af00\">0</span> │ conv2d_1[<span style=\"color: #00af00; text-decoration-color: #00af00\">0</span>][<span style=\"color: #00af00; text-decoration-color: #00af00\">0</span>]    │\n",
              "│ (<span style=\"color: #0087ff; text-decoration-color: #0087ff\">MaxPooling2D</span>)      │ <span style=\"color: #00af00; text-decoration-color: #00af00\">128</span>)              │            │                   │\n",
              "├─────────────────────┼───────────────────┼────────────┼───────────────────┤\n",
              "│ conv2d_2 (<span style=\"color: #0087ff; text-decoration-color: #0087ff\">Conv2D</span>)   │ (<span style=\"color: #00d7ff; text-decoration-color: #00d7ff\">None</span>, <span style=\"color: #00af00; text-decoration-color: #00af00\">64</span>, <span style=\"color: #00af00; text-decoration-color: #00af00\">64</span>,    │    <span style=\"color: #00af00; text-decoration-color: #00af00\">295,168</span> │ max_pooling2d_1[<span style=\"color: #00af00; text-decoration-color: #00af00\">…</span> │\n",
              "│                     │ <span style=\"color: #00af00; text-decoration-color: #00af00\">256</span>)              │            │                   │\n",
              "├─────────────────────┼───────────────────┼────────────┼───────────────────┤\n",
              "│ max_pooling2d_2     │ (<span style=\"color: #00d7ff; text-decoration-color: #00d7ff\">None</span>, <span style=\"color: #00af00; text-decoration-color: #00af00\">32</span>, <span style=\"color: #00af00; text-decoration-color: #00af00\">32</span>,    │          <span style=\"color: #00af00; text-decoration-color: #00af00\">0</span> │ conv2d_2[<span style=\"color: #00af00; text-decoration-color: #00af00\">0</span>][<span style=\"color: #00af00; text-decoration-color: #00af00\">0</span>]    │\n",
              "│ (<span style=\"color: #0087ff; text-decoration-color: #0087ff\">MaxPooling2D</span>)      │ <span style=\"color: #00af00; text-decoration-color: #00af00\">256</span>)              │            │                   │\n",
              "├─────────────────────┼───────────────────┼────────────┼───────────────────┤\n",
              "│ conv2d_3 (<span style=\"color: #0087ff; text-decoration-color: #0087ff\">Conv2D</span>)   │ (<span style=\"color: #00d7ff; text-decoration-color: #00d7ff\">None</span>, <span style=\"color: #00af00; text-decoration-color: #00af00\">32</span>, <span style=\"color: #00af00; text-decoration-color: #00af00\">32</span>,    │  <span style=\"color: #00af00; text-decoration-color: #00af00\">1,180,160</span> │ max_pooling2d_2[<span style=\"color: #00af00; text-decoration-color: #00af00\">…</span> │\n",
              "│                     │ <span style=\"color: #00af00; text-decoration-color: #00af00\">512</span>)              │            │                   │\n",
              "├─────────────────────┼───────────────────┼────────────┼───────────────────┤\n",
              "│ conv2d_transpose    │ (<span style=\"color: #00d7ff; text-decoration-color: #00d7ff\">None</span>, <span style=\"color: #00af00; text-decoration-color: #00af00\">64</span>, <span style=\"color: #00af00; text-decoration-color: #00af00\">64</span>,    │    <span style=\"color: #00af00; text-decoration-color: #00af00\">524,544</span> │ conv2d_3[<span style=\"color: #00af00; text-decoration-color: #00af00\">0</span>][<span style=\"color: #00af00; text-decoration-color: #00af00\">0</span>]    │\n",
              "│ (<span style=\"color: #0087ff; text-decoration-color: #0087ff\">Conv2DTranspose</span>)   │ <span style=\"color: #00af00; text-decoration-color: #00af00\">256</span>)              │            │                   │\n",
              "├─────────────────────┼───────────────────┼────────────┼───────────────────┤\n",
              "│ concatenate         │ (<span style=\"color: #00d7ff; text-decoration-color: #00d7ff\">None</span>, <span style=\"color: #00af00; text-decoration-color: #00af00\">64</span>, <span style=\"color: #00af00; text-decoration-color: #00af00\">64</span>,    │          <span style=\"color: #00af00; text-decoration-color: #00af00\">0</span> │ conv2d_transpose… │\n",
              "│ (<span style=\"color: #0087ff; text-decoration-color: #0087ff\">Concatenate</span>)       │ <span style=\"color: #00af00; text-decoration-color: #00af00\">512</span>)              │            │ conv2d_2[<span style=\"color: #00af00; text-decoration-color: #00af00\">0</span>][<span style=\"color: #00af00; text-decoration-color: #00af00\">0</span>]    │\n",
              "├─────────────────────┼───────────────────┼────────────┼───────────────────┤\n",
              "│ conv2d_4 (<span style=\"color: #0087ff; text-decoration-color: #0087ff\">Conv2D</span>)   │ (<span style=\"color: #00d7ff; text-decoration-color: #00d7ff\">None</span>, <span style=\"color: #00af00; text-decoration-color: #00af00\">64</span>, <span style=\"color: #00af00; text-decoration-color: #00af00\">64</span>,    │  <span style=\"color: #00af00; text-decoration-color: #00af00\">1,179,904</span> │ concatenate[<span style=\"color: #00af00; text-decoration-color: #00af00\">0</span>][<span style=\"color: #00af00; text-decoration-color: #00af00\">0</span>] │\n",
              "│                     │ <span style=\"color: #00af00; text-decoration-color: #00af00\">256</span>)              │            │                   │\n",
              "├─────────────────────┼───────────────────┼────────────┼───────────────────┤\n",
              "│ conv2d_transpose_1  │ (<span style=\"color: #00d7ff; text-decoration-color: #00d7ff\">None</span>, <span style=\"color: #00af00; text-decoration-color: #00af00\">128</span>, <span style=\"color: #00af00; text-decoration-color: #00af00\">128</span>,  │    <span style=\"color: #00af00; text-decoration-color: #00af00\">131,200</span> │ conv2d_4[<span style=\"color: #00af00; text-decoration-color: #00af00\">0</span>][<span style=\"color: #00af00; text-decoration-color: #00af00\">0</span>]    │\n",
              "│ (<span style=\"color: #0087ff; text-decoration-color: #0087ff\">Conv2DTranspose</span>)   │ <span style=\"color: #00af00; text-decoration-color: #00af00\">128</span>)              │            │                   │\n",
              "├─────────────────────┼───────────────────┼────────────┼───────────────────┤\n",
              "│ concatenate_1       │ (<span style=\"color: #00d7ff; text-decoration-color: #00d7ff\">None</span>, <span style=\"color: #00af00; text-decoration-color: #00af00\">128</span>, <span style=\"color: #00af00; text-decoration-color: #00af00\">128</span>,  │          <span style=\"color: #00af00; text-decoration-color: #00af00\">0</span> │ conv2d_transpose… │\n",
              "│ (<span style=\"color: #0087ff; text-decoration-color: #0087ff\">Concatenate</span>)       │ <span style=\"color: #00af00; text-decoration-color: #00af00\">256</span>)              │            │ conv2d_1[<span style=\"color: #00af00; text-decoration-color: #00af00\">0</span>][<span style=\"color: #00af00; text-decoration-color: #00af00\">0</span>]    │\n",
              "├─────────────────────┼───────────────────┼────────────┼───────────────────┤\n",
              "│ conv2d_5 (<span style=\"color: #0087ff; text-decoration-color: #0087ff\">Conv2D</span>)   │ (<span style=\"color: #00d7ff; text-decoration-color: #00d7ff\">None</span>, <span style=\"color: #00af00; text-decoration-color: #00af00\">128</span>, <span style=\"color: #00af00; text-decoration-color: #00af00\">128</span>,  │    <span style=\"color: #00af00; text-decoration-color: #00af00\">295,040</span> │ concatenate_1[<span style=\"color: #00af00; text-decoration-color: #00af00\">0</span>]… │\n",
              "│                     │ <span style=\"color: #00af00; text-decoration-color: #00af00\">128</span>)              │            │                   │\n",
              "├─────────────────────┼───────────────────┼────────────┼───────────────────┤\n",
              "│ conv2d_transpose_2  │ (<span style=\"color: #00d7ff; text-decoration-color: #00d7ff\">None</span>, <span style=\"color: #00af00; text-decoration-color: #00af00\">256</span>, <span style=\"color: #00af00; text-decoration-color: #00af00\">256</span>,  │     <span style=\"color: #00af00; text-decoration-color: #00af00\">32,832</span> │ conv2d_5[<span style=\"color: #00af00; text-decoration-color: #00af00\">0</span>][<span style=\"color: #00af00; text-decoration-color: #00af00\">0</span>]    │\n",
              "│ (<span style=\"color: #0087ff; text-decoration-color: #0087ff\">Conv2DTranspose</span>)   │ <span style=\"color: #00af00; text-decoration-color: #00af00\">64</span>)               │            │                   │\n",
              "├─────────────────────┼───────────────────┼────────────┼───────────────────┤\n",
              "│ concatenate_2       │ (<span style=\"color: #00d7ff; text-decoration-color: #00d7ff\">None</span>, <span style=\"color: #00af00; text-decoration-color: #00af00\">256</span>, <span style=\"color: #00af00; text-decoration-color: #00af00\">256</span>,  │          <span style=\"color: #00af00; text-decoration-color: #00af00\">0</span> │ conv2d_transpose… │\n",
              "│ (<span style=\"color: #0087ff; text-decoration-color: #0087ff\">Concatenate</span>)       │ <span style=\"color: #00af00; text-decoration-color: #00af00\">128</span>)              │            │ conv2d[<span style=\"color: #00af00; text-decoration-color: #00af00\">0</span>][<span style=\"color: #00af00; text-decoration-color: #00af00\">0</span>]      │\n",
              "├─────────────────────┼───────────────────┼────────────┼───────────────────┤\n",
              "│ conv2d_6 (<span style=\"color: #0087ff; text-decoration-color: #0087ff\">Conv2D</span>)   │ (<span style=\"color: #00d7ff; text-decoration-color: #00d7ff\">None</span>, <span style=\"color: #00af00; text-decoration-color: #00af00\">256</span>, <span style=\"color: #00af00; text-decoration-color: #00af00\">256</span>,  │     <span style=\"color: #00af00; text-decoration-color: #00af00\">73,792</span> │ concatenate_2[<span style=\"color: #00af00; text-decoration-color: #00af00\">0</span>]… │\n",
              "│                     │ <span style=\"color: #00af00; text-decoration-color: #00af00\">64</span>)               │            │                   │\n",
              "├─────────────────────┼───────────────────┼────────────┼───────────────────┤\n",
              "│ conv2d_7 (<span style=\"color: #0087ff; text-decoration-color: #0087ff\">Conv2D</span>)   │ (<span style=\"color: #00d7ff; text-decoration-color: #00d7ff\">None</span>, <span style=\"color: #00af00; text-decoration-color: #00af00\">256</span>, <span style=\"color: #00af00; text-decoration-color: #00af00\">256</span>,  │        <span style=\"color: #00af00; text-decoration-color: #00af00\">520</span> │ conv2d_6[<span style=\"color: #00af00; text-decoration-color: #00af00\">0</span>][<span style=\"color: #00af00; text-decoration-color: #00af00\">0</span>]    │\n",
              "│                     │ <span style=\"color: #00af00; text-decoration-color: #00af00\">8</span>)                │            │                   │\n",
              "└─────────────────────┴───────────────────┴────────────┴───────────────────┘\n",
              "</pre>\n"
            ],
            "text/plain": [
              "┏━━━━━━━━━━━━━━━━━━━━━┳━━━━━━━━━━━━━━━━━━━┳━━━━━━━━━━━━┳━━━━━━━━━━━━━━━━━━━┓\n",
              "┃\u001b[1m \u001b[0m\u001b[1mLayer (type)       \u001b[0m\u001b[1m \u001b[0m┃\u001b[1m \u001b[0m\u001b[1mOutput Shape     \u001b[0m\u001b[1m \u001b[0m┃\u001b[1m \u001b[0m\u001b[1m   Param #\u001b[0m\u001b[1m \u001b[0m┃\u001b[1m \u001b[0m\u001b[1mConnected to     \u001b[0m\u001b[1m \u001b[0m┃\n",
              "┡━━━━━━━━━━━━━━━━━━━━━╇━━━━━━━━━━━━━━━━━━━╇━━━━━━━━━━━━╇━━━━━━━━━━━━━━━━━━━┩\n",
              "│ input_layer         │ (\u001b[38;5;45mNone\u001b[0m, \u001b[38;5;34m256\u001b[0m, \u001b[38;5;34m256\u001b[0m,  │          \u001b[38;5;34m0\u001b[0m │ -                 │\n",
              "│ (\u001b[38;5;33mInputLayer\u001b[0m)        │ \u001b[38;5;34m3\u001b[0m)                │            │                   │\n",
              "├─────────────────────┼───────────────────┼────────────┼───────────────────┤\n",
              "│ conv2d (\u001b[38;5;33mConv2D\u001b[0m)     │ (\u001b[38;5;45mNone\u001b[0m, \u001b[38;5;34m256\u001b[0m, \u001b[38;5;34m256\u001b[0m,  │      \u001b[38;5;34m1,792\u001b[0m │ input_layer[\u001b[38;5;34m0\u001b[0m][\u001b[38;5;34m0\u001b[0m] │\n",
              "│                     │ \u001b[38;5;34m64\u001b[0m)               │            │                   │\n",
              "├─────────────────────┼───────────────────┼────────────┼───────────────────┤\n",
              "│ max_pooling2d       │ (\u001b[38;5;45mNone\u001b[0m, \u001b[38;5;34m128\u001b[0m, \u001b[38;5;34m128\u001b[0m,  │          \u001b[38;5;34m0\u001b[0m │ conv2d[\u001b[38;5;34m0\u001b[0m][\u001b[38;5;34m0\u001b[0m]      │\n",
              "│ (\u001b[38;5;33mMaxPooling2D\u001b[0m)      │ \u001b[38;5;34m64\u001b[0m)               │            │                   │\n",
              "├─────────────────────┼───────────────────┼────────────┼───────────────────┤\n",
              "│ conv2d_1 (\u001b[38;5;33mConv2D\u001b[0m)   │ (\u001b[38;5;45mNone\u001b[0m, \u001b[38;5;34m128\u001b[0m, \u001b[38;5;34m128\u001b[0m,  │     \u001b[38;5;34m73,856\u001b[0m │ max_pooling2d[\u001b[38;5;34m0\u001b[0m]… │\n",
              "│                     │ \u001b[38;5;34m128\u001b[0m)              │            │                   │\n",
              "├─────────────────────┼───────────────────┼────────────┼───────────────────┤\n",
              "│ max_pooling2d_1     │ (\u001b[38;5;45mNone\u001b[0m, \u001b[38;5;34m64\u001b[0m, \u001b[38;5;34m64\u001b[0m,    │          \u001b[38;5;34m0\u001b[0m │ conv2d_1[\u001b[38;5;34m0\u001b[0m][\u001b[38;5;34m0\u001b[0m]    │\n",
              "│ (\u001b[38;5;33mMaxPooling2D\u001b[0m)      │ \u001b[38;5;34m128\u001b[0m)              │            │                   │\n",
              "├─────────────────────┼───────────────────┼────────────┼───────────────────┤\n",
              "│ conv2d_2 (\u001b[38;5;33mConv2D\u001b[0m)   │ (\u001b[38;5;45mNone\u001b[0m, \u001b[38;5;34m64\u001b[0m, \u001b[38;5;34m64\u001b[0m,    │    \u001b[38;5;34m295,168\u001b[0m │ max_pooling2d_1[\u001b[38;5;34m…\u001b[0m │\n",
              "│                     │ \u001b[38;5;34m256\u001b[0m)              │            │                   │\n",
              "├─────────────────────┼───────────────────┼────────────┼───────────────────┤\n",
              "│ max_pooling2d_2     │ (\u001b[38;5;45mNone\u001b[0m, \u001b[38;5;34m32\u001b[0m, \u001b[38;5;34m32\u001b[0m,    │          \u001b[38;5;34m0\u001b[0m │ conv2d_2[\u001b[38;5;34m0\u001b[0m][\u001b[38;5;34m0\u001b[0m]    │\n",
              "│ (\u001b[38;5;33mMaxPooling2D\u001b[0m)      │ \u001b[38;5;34m256\u001b[0m)              │            │                   │\n",
              "├─────────────────────┼───────────────────┼────────────┼───────────────────┤\n",
              "│ conv2d_3 (\u001b[38;5;33mConv2D\u001b[0m)   │ (\u001b[38;5;45mNone\u001b[0m, \u001b[38;5;34m32\u001b[0m, \u001b[38;5;34m32\u001b[0m,    │  \u001b[38;5;34m1,180,160\u001b[0m │ max_pooling2d_2[\u001b[38;5;34m…\u001b[0m │\n",
              "│                     │ \u001b[38;5;34m512\u001b[0m)              │            │                   │\n",
              "├─────────────────────┼───────────────────┼────────────┼───────────────────┤\n",
              "│ conv2d_transpose    │ (\u001b[38;5;45mNone\u001b[0m, \u001b[38;5;34m64\u001b[0m, \u001b[38;5;34m64\u001b[0m,    │    \u001b[38;5;34m524,544\u001b[0m │ conv2d_3[\u001b[38;5;34m0\u001b[0m][\u001b[38;5;34m0\u001b[0m]    │\n",
              "│ (\u001b[38;5;33mConv2DTranspose\u001b[0m)   │ \u001b[38;5;34m256\u001b[0m)              │            │                   │\n",
              "├─────────────────────┼───────────────────┼────────────┼───────────────────┤\n",
              "│ concatenate         │ (\u001b[38;5;45mNone\u001b[0m, \u001b[38;5;34m64\u001b[0m, \u001b[38;5;34m64\u001b[0m,    │          \u001b[38;5;34m0\u001b[0m │ conv2d_transpose… │\n",
              "│ (\u001b[38;5;33mConcatenate\u001b[0m)       │ \u001b[38;5;34m512\u001b[0m)              │            │ conv2d_2[\u001b[38;5;34m0\u001b[0m][\u001b[38;5;34m0\u001b[0m]    │\n",
              "├─────────────────────┼───────────────────┼────────────┼───────────────────┤\n",
              "│ conv2d_4 (\u001b[38;5;33mConv2D\u001b[0m)   │ (\u001b[38;5;45mNone\u001b[0m, \u001b[38;5;34m64\u001b[0m, \u001b[38;5;34m64\u001b[0m,    │  \u001b[38;5;34m1,179,904\u001b[0m │ concatenate[\u001b[38;5;34m0\u001b[0m][\u001b[38;5;34m0\u001b[0m] │\n",
              "│                     │ \u001b[38;5;34m256\u001b[0m)              │            │                   │\n",
              "├─────────────────────┼───────────────────┼────────────┼───────────────────┤\n",
              "│ conv2d_transpose_1  │ (\u001b[38;5;45mNone\u001b[0m, \u001b[38;5;34m128\u001b[0m, \u001b[38;5;34m128\u001b[0m,  │    \u001b[38;5;34m131,200\u001b[0m │ conv2d_4[\u001b[38;5;34m0\u001b[0m][\u001b[38;5;34m0\u001b[0m]    │\n",
              "│ (\u001b[38;5;33mConv2DTranspose\u001b[0m)   │ \u001b[38;5;34m128\u001b[0m)              │            │                   │\n",
              "├─────────────────────┼───────────────────┼────────────┼───────────────────┤\n",
              "│ concatenate_1       │ (\u001b[38;5;45mNone\u001b[0m, \u001b[38;5;34m128\u001b[0m, \u001b[38;5;34m128\u001b[0m,  │          \u001b[38;5;34m0\u001b[0m │ conv2d_transpose… │\n",
              "│ (\u001b[38;5;33mConcatenate\u001b[0m)       │ \u001b[38;5;34m256\u001b[0m)              │            │ conv2d_1[\u001b[38;5;34m0\u001b[0m][\u001b[38;5;34m0\u001b[0m]    │\n",
              "├─────────────────────┼───────────────────┼────────────┼───────────────────┤\n",
              "│ conv2d_5 (\u001b[38;5;33mConv2D\u001b[0m)   │ (\u001b[38;5;45mNone\u001b[0m, \u001b[38;5;34m128\u001b[0m, \u001b[38;5;34m128\u001b[0m,  │    \u001b[38;5;34m295,040\u001b[0m │ concatenate_1[\u001b[38;5;34m0\u001b[0m]… │\n",
              "│                     │ \u001b[38;5;34m128\u001b[0m)              │            │                   │\n",
              "├─────────────────────┼───────────────────┼────────────┼───────────────────┤\n",
              "│ conv2d_transpose_2  │ (\u001b[38;5;45mNone\u001b[0m, \u001b[38;5;34m256\u001b[0m, \u001b[38;5;34m256\u001b[0m,  │     \u001b[38;5;34m32,832\u001b[0m │ conv2d_5[\u001b[38;5;34m0\u001b[0m][\u001b[38;5;34m0\u001b[0m]    │\n",
              "│ (\u001b[38;5;33mConv2DTranspose\u001b[0m)   │ \u001b[38;5;34m64\u001b[0m)               │            │                   │\n",
              "├─────────────────────┼───────────────────┼────────────┼───────────────────┤\n",
              "│ concatenate_2       │ (\u001b[38;5;45mNone\u001b[0m, \u001b[38;5;34m256\u001b[0m, \u001b[38;5;34m256\u001b[0m,  │          \u001b[38;5;34m0\u001b[0m │ conv2d_transpose… │\n",
              "│ (\u001b[38;5;33mConcatenate\u001b[0m)       │ \u001b[38;5;34m128\u001b[0m)              │            │ conv2d[\u001b[38;5;34m0\u001b[0m][\u001b[38;5;34m0\u001b[0m]      │\n",
              "├─────────────────────┼───────────────────┼────────────┼───────────────────┤\n",
              "│ conv2d_6 (\u001b[38;5;33mConv2D\u001b[0m)   │ (\u001b[38;5;45mNone\u001b[0m, \u001b[38;5;34m256\u001b[0m, \u001b[38;5;34m256\u001b[0m,  │     \u001b[38;5;34m73,792\u001b[0m │ concatenate_2[\u001b[38;5;34m0\u001b[0m]… │\n",
              "│                     │ \u001b[38;5;34m64\u001b[0m)               │            │                   │\n",
              "├─────────────────────┼───────────────────┼────────────┼───────────────────┤\n",
              "│ conv2d_7 (\u001b[38;5;33mConv2D\u001b[0m)   │ (\u001b[38;5;45mNone\u001b[0m, \u001b[38;5;34m256\u001b[0m, \u001b[38;5;34m256\u001b[0m,  │        \u001b[38;5;34m520\u001b[0m │ conv2d_6[\u001b[38;5;34m0\u001b[0m][\u001b[38;5;34m0\u001b[0m]    │\n",
              "│                     │ \u001b[38;5;34m8\u001b[0m)                │            │                   │\n",
              "└─────────────────────┴───────────────────┴────────────┴───────────────────┘\n"
            ]
          },
          "metadata": {},
          "output_type": "display_data"
        },
        {
          "data": {
            "text/html": [
              "<pre style=\"white-space:pre;overflow-x:auto;line-height:normal;font-family:Menlo,'DejaVu Sans Mono',consolas,'Courier New',monospace\"><span style=\"font-weight: bold\"> Total params: </span><span style=\"color: #00af00; text-decoration-color: #00af00\">11,366,426</span> (43.36 MB)\n",
              "</pre>\n"
            ],
            "text/plain": [
              "\u001b[1m Total params: \u001b[0m\u001b[38;5;34m11,366,426\u001b[0m (43.36 MB)\n"
            ]
          },
          "metadata": {},
          "output_type": "display_data"
        },
        {
          "data": {
            "text/html": [
              "<pre style=\"white-space:pre;overflow-x:auto;line-height:normal;font-family:Menlo,'DejaVu Sans Mono',consolas,'Courier New',monospace\"><span style=\"font-weight: bold\"> Trainable params: </span><span style=\"color: #00af00; text-decoration-color: #00af00\">3,788,808</span> (14.45 MB)\n",
              "</pre>\n"
            ],
            "text/plain": [
              "\u001b[1m Trainable params: \u001b[0m\u001b[38;5;34m3,788,808\u001b[0m (14.45 MB)\n"
            ]
          },
          "metadata": {},
          "output_type": "display_data"
        },
        {
          "data": {
            "text/html": [
              "<pre style=\"white-space:pre;overflow-x:auto;line-height:normal;font-family:Menlo,'DejaVu Sans Mono',consolas,'Courier New',monospace\"><span style=\"font-weight: bold\"> Non-trainable params: </span><span style=\"color: #00af00; text-decoration-color: #00af00\">0</span> (0.00 B)\n",
              "</pre>\n"
            ],
            "text/plain": [
              "\u001b[1m Non-trainable params: \u001b[0m\u001b[38;5;34m0\u001b[0m (0.00 B)\n"
            ]
          },
          "metadata": {},
          "output_type": "display_data"
        },
        {
          "data": {
            "text/html": [
              "<pre style=\"white-space:pre;overflow-x:auto;line-height:normal;font-family:Menlo,'DejaVu Sans Mono',consolas,'Courier New',monospace\"><span style=\"font-weight: bold\"> Optimizer params: </span><span style=\"color: #00af00; text-decoration-color: #00af00\">7,577,618</span> (28.91 MB)\n",
              "</pre>\n"
            ],
            "text/plain": [
              "\u001b[1m Optimizer params: \u001b[0m\u001b[38;5;34m7,577,618\u001b[0m (28.91 MB)\n"
            ]
          },
          "metadata": {},
          "output_type": "display_data"
        }
      ],
      "source": [
        "baseline_model.summary()"
      ]
    },
    {
      "cell_type": "code",
      "execution_count": null,
      "metadata": {
        "id": "l8YK7TX_zsId"
      },
      "outputs": [],
      "source": [
        "# Class_colors dictionnary for visualisation\n",
        "\n",
        "class_colors = {\n",
        "    0: (0, 0, 0),       # Classe 0 : Noir - Background/Void\n",
        "    1: (128, 0, 0),     # Classe 1 : Rouge Foncé - Flat\n",
        "    2: (0, 128, 0),     # Classe 2 : Vert Foncé - Sky\n",
        "    3: (128, 128, 0),   # Classe 3 : Olive - Human\n",
        "    4: (0, 0, 128),     # Classe 4 : Bleu Foncé - Vehicle\n",
        "    5: (128, 0, 128),   # Classe 5 : Pourpre - Object\n",
        "    6: (0, 128, 128),   # Classe 6 : Teal - Construction\n",
        "    7: (128, 128, 128)  # Classe 7 : Gris - Nature\n",
        "}"
      ]
    },
    {
      "cell_type": "code",
      "execution_count": null,
      "metadata": {
        "id": "iBGFlK2LFxMz"
      },
      "outputs": [],
      "source": [
        "\n",
        "def colorize_mask(mask, color_mapping):\n",
        "    \"\"\"\n",
        "    Convertit un masque de segmentation en une image RGB en utilisant un mapping de couleurs.\n",
        "\n",
        "    Args:\n",
        "    mask (np.array): Un masque de segmentation avec la forme [height, width], contenant des indices de classe.\n",
        "    color_mapping (dict): Un dictionnaire où les clés sont les indices de classe et les valeurs sont les couleurs RGB.\n",
        "\n",
        "    Returns:\n",
        "    np.array: Une image RGB colorisée du masque de segmentation.\n",
        "    \"\"\"\n",
        "    colored_mask = np.zeros(\n",
        "        (*mask.shape, 3), dtype=np.uint8)  # Créer une image RGB vide\n",
        "    for class_index, color in color_mapping.items():\n",
        "        # Appliquer la couleur pour chaque classe\n",
        "        colored_mask[mask == class_index] = color\n",
        "    return colored_mask"
      ]
    },
    {
      "cell_type": "code",
      "execution_count": null,
      "metadata": {
        "id": "z9x43Xqz2y-Z"
      },
      "outputs": [],
      "source": [
        "image_test_list[0]\n",
        "image_test = image.load_img(image_test_list[4])\n",
        "image_test"
      ]
    },
    {
      "cell_type": "code",
      "execution_count": null,
      "metadata": {
        "id": "l6GPBbcpFz14"
      },
      "outputs": [],
      "source": [
        "# Visualize predicted mask\n",
        "image_test = image.img_to_array(image.load_img(\n",
        "    image_test_list[4], target_size=(256, 256)))\n",
        "prediction = baseline_model.predict(np.expand_dims(image_test, axis=0))\n",
        "# Convertir de one-hot à indices de classe\n",
        "predicted_classes = np.argmax(prediction, axis=-1)\n",
        "# Coloriser le masque prédit\n",
        "colored_mask = colorize_mask(predicted_classes, class_colors)\n",
        "\n",
        "\n",
        "plt.imshow(np.squeeze(colored_mask))\n",
        "plt.axis('off')\n",
        "plt.show()"
      ]
    },
    {
      "cell_type": "markdown",
      "metadata": {
        "id": "L3mjAmuhTVwz"
      },
      "source": [
        "# Entrainement avec data augmentation\n",
        "Nous cherchons à mesurer l'impact de la Data Augmentation dans la performance du modèle baseline et la qualité de l'entrainement"
      ]
    },
    {
      "cell_type": "code",
      "execution_count": 12,
      "metadata": {
        "execution": {
          "iopub.execute_input": "2024-03-05T10:30:35.169466Z",
          "iopub.status.busy": "2024-03-05T10:30:35.169131Z",
          "iopub.status.idle": "2024-03-05T10:30:35.178704Z",
          "shell.execute_reply": "2024-03-05T10:30:35.177682Z",
          "shell.execute_reply.started": "2024-03-05T10:30:35.169441Z"
        },
        "id": "Q89JvSewTVw0",
        "trusted": true
      },
      "outputs": [
        {
          "name": "stdout",
          "output_type": "stream",
          "text": [
            "Generateur de données augmentées prêts.\n"
          ]
        }
      ],
      "source": [
        "# DataGenerateur avec augmentation des données\n",
        "train_gen_aug = seg_gen(image_list, mask_list, with_data_augmentation=True)\n",
        "test_gen_aug = seg_gen(image_test_list, mask_test_list,\n",
        "                       with_data_augmentation=True)\n",
        "val_gen_aug = seg_gen(image_val_list, mask_val_list,\n",
        "                      with_data_augmentation=True)\n",
        "print('Generateur de données augmentées prêts.')"
      ]
    },
    {
      "cell_type": "code",
      "execution_count": null,
      "metadata": {
        "id": "mSc6yZOqTVw0",
        "trusted": true
      },
      "outputs": [],
      "source": [
        "# Entrainement sur les données augmentées\n",
        "# Baseline\n",
        "\n",
        "meanIoU_aug = MeanIoU(num_classes=classes)\n",
        "mc_base_aug = ModelCheckpoint(mode='min', filepath='baseline_aug_model.hdf5',\n",
        "                              save_freq=\"epoch\", monitor='val_loss',\n",
        "                              save_best_only='True', save_weights_only='False',\n",
        "                              verbose=1)\n",
        "\n",
        "es_base_aug = EarlyStopping(mode='min', monitor='val_loss',\n",
        "                            patience=3, verbose=1)\n",
        "\n",
        "print(\"Callbacks OK\")\n",
        "\n",
        "# Création du modèle baseline\n",
        "baseline_model = utils.baseline_model(img_height, img_width, classes)\n",
        "baseline_model.compile(optimizer=Adam(learning_rate=0.001),\n",
        "                       loss=dice_loss,\n",
        "                       metrics=[MeanIoU(num_classes=8), 'accuracy'])\n",
        "\n",
        "callbacks_base_aug = [mc_base_aug, es_base_aug]\n",
        "\n",
        "\n",
        "print('Entrainement...')\n",
        "\n",
        "mlflow.set_experiment('Baseline training')\n",
        "mlflow.autolog()\n",
        "history_aug = baseline_model.fit(train_gen_aug,\n",
        "\n",
        "                                 epochs=10,\n",
        "                                 validation_data=val_gen_aug,\n",
        "                                 callbacks=callbacks_base_aug,\n",
        "                                 workers=-1)\n",
        "\n",
        "print(\"#------------Entrainement terminé-----------------\")"
      ]
    },
    {
      "cell_type": "code",
      "execution_count": null,
      "metadata": {
        "execution": {
          "iopub.execute_input": "2024-03-05T14:01:32.570889Z",
          "iopub.status.busy": "2024-03-05T14:01:32.570485Z",
          "iopub.status.idle": "2024-03-05T14:14:13.182444Z",
          "shell.execute_reply": "2024-03-05T14:14:13.18051Z",
          "shell.execute_reply.started": "2024-03-05T14:01:32.570829Z"
        },
        "id": "_uqqrfGOTVw1",
        "trusted": true
      },
      "outputs": [],
      "source": [
        "# Evaluation\n",
        "baseline_model.evaluate(test_gen_aug, verbose=2, return_dict=True)"
      ]
    },
    {
      "cell_type": "markdown",
      "metadata": {
        "id": "ewQi4q1LTVw2"
      },
      "source": [
        "# VGG16+Unet\n"
      ]
    },
    {
      "cell_type": "code",
      "execution_count": 13,
      "metadata": {
        "colab": {
          "base_uri": "https://localhost:8080/"
        },
        "id": "1ZmZwDYBTVw2",
        "outputId": "8cae5651-8b7c-435f-a23a-a218cb59ca74"
      },
      "outputs": [
        {
          "name": "stdout",
          "output_type": "stream",
          "text": [
            "----------Modèle hybride prêt-----------\n"
          ]
        }
      ],
      "source": [
        "# Définition du modèle\n",
        "from keras.models import Model\n",
        "from keras.applications.vgg16 import VGG16\n",
        "from keras.layers import Cropping2D, Dropout\n",
        "from keras.optimizers import Adam\n",
        "\n",
        "\n",
        "input_shape = (img_height, img_width, 3)\n",
        "\n",
        "\n",
        "# input_tensor. Sans doute utile pour lier avec seg_gen/DataGenerator\n",
        "VGG_model = VGG16(weights='imagenet', include_top=False,\n",
        "                  input_shape=input_shape)\n",
        "# for layer in VGG_model.layers:\n",
        "#   layer.trainable = False\n",
        "\n",
        "# Blocs de construction du modèle perso\n",
        "\n",
        "\n",
        "def conv_block(inputs, filters, kernel_size=3, num_layers=8):  # Ajout d'un paramètre num_layers\n",
        "    conv = inputs\n",
        "    for _ in range(num_layers):  # Ajout de plusieurs couches de convolution\n",
        "        conv = Conv2D(filters, kernel_size,\n",
        "                      activation='relu', padding='same')(conv)\n",
        "    return conv\n",
        "\n",
        "\n",
        "# Ajout d'un paramètre num_layers\n",
        "def encoder_block(inputs, filters, pool_size=(2, 2), num_layers=2):\n",
        "    # Utilisation de conv_block avec le paramètre num_layers\n",
        "    conv = conv_block(inputs, filters, num_layers=num_layers)\n",
        "    pool = MaxPooling2D(pool_size)(conv)\n",
        "    return conv, pool\n",
        "\n",
        "\n",
        "# Ajout d'un paramètre num_layers\n",
        "def decoder_block(inputs, skip_features, filters, kernel_size=3, upsample_size=(2, 2), num_layers=2):\n",
        "    upsample = UpSampling2D(upsample_size)(inputs)\n",
        "    skip_conv = Conv2D(filters, 1, activation='relu')(skip_features)\n",
        "    skip_upsample = UpSampling2D(upsample_size)(skip_conv)\n",
        "    concat = Concatenate(axis=-1)([upsample, skip_upsample])\n",
        "    # Utilisation de conv_block avec le paramètre num_layers\n",
        "    conv = conv_block(concat, filters, num_layers=num_layers)\n",
        "    return conv\n",
        "\n",
        "# Unet perso\n",
        "\n",
        "\n",
        "def UNet(input_shape):\n",
        "    inputs = Input(input_shape)\n",
        "\n",
        "    conv1, pool1 = encoder_block(inputs, 64)\n",
        "    droupout0 = Dropout(0.1, seed=42)(conv1)\n",
        "    conv2, pool2 = encoder_block(pool1, 128)\n",
        "    dropout1 = Dropout(rate=0.2, seed=42)(conv2)\n",
        "    conv3, _ = encoder_block(pool2, 256)  # Discard the pool3 output\n",
        "\n",
        "    bottleneck = conv_block(conv3, 512)\n",
        "\n",
        "    up4 = decoder_block(bottleneck, conv3, 256)\n",
        "    dropout3 = Dropout(rate=0.2, seed=42)(up4)\n",
        "    up5 = decoder_block(up4, conv2, 128)\n",
        "    dropout2 = Dropout(rate=0.2, seed=42)(up5)\n",
        "    up6 = decoder_block(up5, conv1, 64)\n",
        "\n",
        "    upsampled_output = UpSampling2D(size=(16, 16))(up6)\n",
        "    output = Conv2D(8, 1, activation='softmax')(\n",
        "        upsampled_output)  # 8 classes for segmentation\n",
        "\n",
        "    model = Model(inputs=inputs, outputs=output)\n",
        "    return model\n",
        "\n",
        "\n",
        "UNet_model = UNet((None, None, 512))  # structures sorties VGG16\n",
        "\n",
        "# Connexion VGG16-Unet perso\n",
        "\n",
        "VGG_output = VGG_model.output\n",
        "UNet_output = UNet_model(VGG_output)\n",
        "print('----------Modèle hybride prêt-----------')"
      ]
    },
    {
      "cell_type": "code",
      "execution_count": 14,
      "metadata": {
        "colab": {
          "base_uri": "https://localhost:8080/"
        },
        "id": "Sg0_5dthTVw2",
        "outputId": "4d80f5f1-e691-418a-dd4f-6c4d66234ea4",
        "trusted": true
      },
      "outputs": [
        {
          "name": "stderr",
          "output_type": "stream",
          "text": [
            "2024/04/17 07:42:48 WARNING mlflow.utils.autologging_utils: You are using an unsupported version of tensorflow. If you encounter errors during autologging, try upgrading / downgrading tensorflow to a supported version, or try upgrading MLflow.\n",
            "2024/04/17 07:42:48 INFO mlflow.tracking.fluent: Autologging successfully enabled for tensorflow.\n",
            "2024/04/17 07:42:48 WARNING mlflow.utils.autologging_utils: You are using an unsupported version of keras. If you encounter errors during autologging, try upgrading / downgrading keras to a supported version, or try upgrading MLflow.\n",
            "2024/04/17 07:42:48 INFO mlflow.tracking.fluent: Autologging successfully enabled for keras.\n",
            "2024/04/17 07:42:48 WARNING mlflow.spark: With Pyspark >= 3.2, PYSPARK_PIN_THREAD environment variable must be set to false for Spark datasource autologging to work.\n",
            "2024/04/17 07:42:48 INFO mlflow.tracking.fluent: Autologging successfully enabled for pyspark.\n"
          ]
        },
        {
          "name": "stdout",
          "output_type": "stream",
          "text": [
            "...Modèle généré. Début de l'entrainement...\n"
          ]
        },
        {
          "name": "stderr",
          "output_type": "stream",
          "text": [
            "2024/04/17 07:42:49 INFO mlflow.utils.autologging_utils: Created MLflow autologging run with ID 'eb342d34684d4a4d9032b4c61ecbbb5f', which will track hyperparameters, performance metrics, model artifacts, and lineage information for the current keras workflow\n",
            "2024/04/17 07:42:49 WARNING mlflow.keras.autologging: Unrecognized dataset type <class '__main__.seg_gen'>. Dataset logging skipped.\n",
            "2024/04/17 07:42:49 WARNING mlflow.keras.autologging: Unrecognized dataset type <class 'list'>. Dataset logging skipped.\n"
          ]
        },
        {
          "data": {
            "text/html": [
              "<pre style=\"white-space:pre;overflow-x:auto;line-height:normal;font-family:Menlo,'DejaVu Sans Mono',consolas,'Courier New',monospace\"></pre>\n"
            ],
            "text/plain": []
          },
          "metadata": {},
          "output_type": "display_data"
        },
        {
          "name": "stdout",
          "output_type": "stream",
          "text": [
            "Epoch 1/10\n",
            "\u001b[1m186/186\u001b[0m \u001b[32m━━━━━━━━━━━━━━━━━━━━\u001b[0m\u001b[37m\u001b[0m \u001b[1m0s\u001b[0m 9s/step - accuracy: 0.3772 - loss: 0.8872 - mean_io_u_1: 0.5383\n",
            "Epoch 1: val_loss improved from inf to 0.89694, saving model to hybrid_model.keras\n",
            "\u001b[1m186/186\u001b[0m \u001b[32m━━━━━━━━━━━━━━━━━━━━\u001b[0m\u001b[37m\u001b[0m \u001b[1m1890s\u001b[0m 10s/step - accuracy: 0.3772 - loss: 0.8873 - mean_io_u_1: 0.5383 - val_accuracy: 0.3661 - val_loss: 0.8969 - val_mean_io_u_1: 0.5372\n",
            "Epoch 2/10\n",
            "\u001b[1m186/186\u001b[0m \u001b[32m━━━━━━━━━━━━━━━━━━━━\u001b[0m\u001b[37m\u001b[0m \u001b[1m0s\u001b[0m 9s/step - accuracy: 0.3838 - loss: 0.8927 - mean_io_u_1: 0.5378\n",
            "Epoch 2: val_loss did not improve from 0.89694\n",
            "\u001b[1m186/186\u001b[0m \u001b[32m━━━━━━━━━━━━━━━━━━━━\u001b[0m\u001b[37m\u001b[0m \u001b[1m1861s\u001b[0m 10s/step - accuracy: 0.3838 - loss: 0.8927 - mean_io_u_1: 0.5378 - val_accuracy: 0.3664 - val_loss: 0.8972 - val_mean_io_u_1: 0.5371\n",
            "Epoch 3/10\n",
            "\u001b[1m186/186\u001b[0m \u001b[32m━━━━━━━━━━━━━━━━━━━━\u001b[0m\u001b[37m\u001b[0m \u001b[1m0s\u001b[0m 9s/step - accuracy: 0.3859 - loss: 0.8940 - mean_io_u_1: 0.5389\n",
            "Epoch 3: val_loss improved from 0.89694 to 0.89670, saving model to hybrid_model.keras\n",
            "\u001b[1m186/186\u001b[0m \u001b[32m━━━━━━━━━━━━━━━━━━━━\u001b[0m\u001b[37m\u001b[0m \u001b[1m1828s\u001b[0m 10s/step - accuracy: 0.3859 - loss: 0.8940 - mean_io_u_1: 0.5389 - val_accuracy: 0.3661 - val_loss: 0.8967 - val_mean_io_u_1: 0.5371\n",
            "Epoch 4/10\n",
            "\u001b[1m186/186\u001b[0m \u001b[32m━━━━━━━━━━━━━━━━━━━━\u001b[0m\u001b[37m\u001b[0m \u001b[1m0s\u001b[0m 9s/step - accuracy: 0.3833 - loss: 0.8916 - mean_io_u_1: 0.5376\n",
            "Epoch 4: val_loss improved from 0.89670 to 0.89633, saving model to hybrid_model.keras\n",
            "\u001b[1m186/186\u001b[0m \u001b[32m━━━━━━━━━━━━━━━━━━━━\u001b[0m\u001b[37m\u001b[0m \u001b[1m1874s\u001b[0m 10s/step - accuracy: 0.3833 - loss: 0.8916 - mean_io_u_1: 0.5376 - val_accuracy: 0.3668 - val_loss: 0.8963 - val_mean_io_u_1: 0.5372\n",
            "Epoch 5/10\n",
            "\u001b[1m186/186\u001b[0m \u001b[32m━━━━━━━━━━━━━━━━━━━━\u001b[0m\u001b[37m\u001b[0m \u001b[1m0s\u001b[0m 9s/step - accuracy: 0.3849 - loss: 0.8948 - mean_io_u_1: 0.5384\n",
            "Epoch 5: val_loss did not improve from 0.89633\n",
            "\u001b[1m186/186\u001b[0m \u001b[32m━━━━━━━━━━━━━━━━━━━━\u001b[0m\u001b[37m\u001b[0m \u001b[1m1845s\u001b[0m 10s/step - accuracy: 0.3849 - loss: 0.8948 - mean_io_u_1: 0.5384 - val_accuracy: 0.3666 - val_loss: 0.8966 - val_mean_io_u_1: 0.5371\n",
            "Epoch 6/10\n",
            "\u001b[1m166/186\u001b[0m \u001b[32m━━━━━━━━━━━━━━━━━\u001b[0m\u001b[37m━━━\u001b[0m \u001b[1m3:03\u001b[0m 9s/step - accuracy: 0.3866 - loss: 0.8943 - mean_io_u_1: 0.5392"
          ]
        }
      ],
      "source": [
        "# Entrainement du modèle\n",
        "\n",
        "mc_h = ModelCheckpoint(mode='min',\n",
        "                       filepath='hybrid_model.keras', save_freq=\"epoch\",\n",
        "                       monitor='val_loss',\n",
        "                       save_best_only=True,\n",
        "                       save_weights_only=False,\n",
        "                       verbose=1)\n",
        "\n",
        "es_h = EarlyStopping(mode='min',\n",
        "                     monitor='val_loss',\n",
        "                     patience=3,\n",
        "                     restore_best_weights=True,\n",
        "                     verbose=1)\n",
        "\n",
        "\n",
        "hybrid_model = Model(inputs=VGG_model.input, outputs=UNet_output)\n",
        "hybrid_model.compile(optimizer=Adam(learning_rate=0.001),\n",
        "                     loss=dice_loss,\n",
        "                     metrics=[keras.metrics.MeanIoU(num_classes=8), 'accuracy'])\n",
        "\n",
        "callbacks_h = [mc_h, es_h]\n",
        "\n",
        "print(\"...Modèle généré. Début de l'entrainement...\")\n",
        "\n",
        "mlflow.set_experiment('Baseline_training')\n",
        "mlflow.autolog()\n",
        "hybrid_model.fit(train_gen,\n",
        "                 epochs=10,\n",
        "                 callbacks=callbacks_h,\n",
        "                 validation_data=[val_gen]\n",
        "                 )\n",
        "\n",
        "print(\"#------------Entrainement terminé-----------------\")"
      ]
    },
    {
      "cell_type": "code",
      "execution_count": 1,
      "metadata": {},
      "outputs": [
        {
          "name": "stdout",
          "output_type": "stream",
          "text": [
            "Deleted: mlruns\\desktop.ini\n",
            "Deleted: mlruns\\models\\desktop.ini\n",
            "Deleted: mlruns\\models\\Hybrid\\desktop.ini\n",
            "Deleted: mlruns\\models\\Hybrid\\version-1\\desktop.ini\n",
            "Deleted: mlruns\\models\\Hybrid\\version-2\\desktop.ini\n",
            "Deleted: mlruns\\models\\baseline\\desktop.ini\n",
            "Deleted: mlruns\\models\\baseline\\version-1\\desktop.ini\n",
            "Deleted: mlruns\\0\\desktop.ini\n",
            "Deleted: mlruns\\0\\51015a2c293043acbcf9a015c8e0cda2\\desktop.ini\n",
            "Deleted: mlruns\\0\\51015a2c293043acbcf9a015c8e0cda2\\tags\\desktop.ini\n",
            "Deleted: mlruns\\0\\51015a2c293043acbcf9a015c8e0cda2\\artifacts\\desktop.ini\n",
            "Deleted: mlruns\\0\\51015a2c293043acbcf9a015c8e0cda2\\params\\desktop.ini\n",
            "Deleted: mlruns\\0\\51015a2c293043acbcf9a015c8e0cda2\\metrics\\desktop.ini\n",
            "Deleted: mlruns\\267494163672902708\\desktop.ini\n",
            "Deleted: mlruns\\267494163672902708\\bc4ae692c7fe45c28ccf337ab2734775\\desktop.ini\n",
            "Deleted: mlruns\\267494163672902708\\bc4ae692c7fe45c28ccf337ab2734775\\metrics\\desktop.ini\n",
            "Deleted: mlruns\\267494163672902708\\bc4ae692c7fe45c28ccf337ab2734775\\params\\desktop.ini\n",
            "Deleted: mlruns\\267494163672902708\\bc4ae692c7fe45c28ccf337ab2734775\\artifacts\\desktop.ini\n",
            "Deleted: mlruns\\267494163672902708\\bc4ae692c7fe45c28ccf337ab2734775\\artifacts\\model\\desktop.ini\n",
            "Deleted: mlruns\\267494163672902708\\bc4ae692c7fe45c28ccf337ab2734775\\artifacts\\model\\data\\desktop.ini\n",
            "Deleted: mlruns\\267494163672902708\\bc4ae692c7fe45c28ccf337ab2734775\\tags\\desktop.ini\n",
            "Deleted: mlruns\\267494163672902708\\052e5734b32c4cf196da47f98ca863c2\\desktop.ini\n",
            "Deleted: mlruns\\267494163672902708\\052e5734b32c4cf196da47f98ca863c2\\metrics\\desktop.ini\n",
            "Deleted: mlruns\\267494163672902708\\052e5734b32c4cf196da47f98ca863c2\\params\\desktop.ini\n",
            "Deleted: mlruns\\267494163672902708\\052e5734b32c4cf196da47f98ca863c2\\artifacts\\desktop.ini\n",
            "Deleted: mlruns\\267494163672902708\\052e5734b32c4cf196da47f98ca863c2\\tags\\desktop.ini\n",
            "Deleted: mlruns\\267494163672902708\\3238ecf188004dc49b5ede9e5527f4c9\\desktop.ini\n",
            "Deleted: mlruns\\267494163672902708\\3238ecf188004dc49b5ede9e5527f4c9\\metrics\\desktop.ini\n",
            "Deleted: mlruns\\267494163672902708\\3238ecf188004dc49b5ede9e5527f4c9\\params\\desktop.ini\n",
            "Deleted: mlruns\\267494163672902708\\3238ecf188004dc49b5ede9e5527f4c9\\artifacts\\desktop.ini\n",
            "Deleted: mlruns\\267494163672902708\\3238ecf188004dc49b5ede9e5527f4c9\\artifacts\\model\\desktop.ini\n",
            "Deleted: mlruns\\267494163672902708\\3238ecf188004dc49b5ede9e5527f4c9\\artifacts\\model\\data\\desktop.ini\n",
            "Deleted: mlruns\\267494163672902708\\3238ecf188004dc49b5ede9e5527f4c9\\tags\\desktop.ini\n",
            "Deleted: mlruns\\267494163672902708\\eb342d34684d4a4d9032b4c61ecbbb5f\\desktop.ini\n",
            "Deleted: mlruns\\267494163672902708\\eb342d34684d4a4d9032b4c61ecbbb5f\\metrics\\desktop.ini\n",
            "Deleted: mlruns\\267494163672902708\\eb342d34684d4a4d9032b4c61ecbbb5f\\params\\desktop.ini\n",
            "Deleted: mlruns\\267494163672902708\\eb342d34684d4a4d9032b4c61ecbbb5f\\artifacts\\desktop.ini\n",
            "Deleted: mlruns\\267494163672902708\\eb342d34684d4a4d9032b4c61ecbbb5f\\artifacts\\model\\desktop.ini\n",
            "Deleted: mlruns\\267494163672902708\\eb342d34684d4a4d9032b4c61ecbbb5f\\artifacts\\model\\data\\desktop.ini\n",
            "Deleted: mlruns\\267494163672902708\\eb342d34684d4a4d9032b4c61ecbbb5f\\tags\\desktop.ini\n",
            "Deleted: mlruns\\934111576158212686\\desktop.ini\n",
            "Deleted: mlruns\\934111576158212686\\2cea08f4fb774181814393b45180b406\\desktop.ini\n",
            "Deleted: mlruns\\934111576158212686\\2cea08f4fb774181814393b45180b406\\metrics\\desktop.ini\n",
            "Deleted: mlruns\\934111576158212686\\2cea08f4fb774181814393b45180b406\\params\\desktop.ini\n",
            "Deleted: mlruns\\934111576158212686\\2cea08f4fb774181814393b45180b406\\artifacts\\desktop.ini\n",
            "Deleted: mlruns\\934111576158212686\\2cea08f4fb774181814393b45180b406\\tags\\desktop.ini\n",
            "Deleted: mlruns\\934111576158212686\\88d475034ec949ea911159d9283e26a1\\desktop.ini\n",
            "Deleted: mlruns\\934111576158212686\\88d475034ec949ea911159d9283e26a1\\metrics\\desktop.ini\n",
            "Deleted: mlruns\\934111576158212686\\88d475034ec949ea911159d9283e26a1\\params\\desktop.ini\n",
            "Deleted: mlruns\\934111576158212686\\88d475034ec949ea911159d9283e26a1\\artifacts\\desktop.ini\n",
            "Deleted: mlruns\\934111576158212686\\88d475034ec949ea911159d9283e26a1\\tags\\desktop.ini\n",
            "Deleted: mlruns\\934111576158212686\\f23918dcfc6e43398a59dfa953161fbb\\desktop.ini\n",
            "Deleted: mlruns\\934111576158212686\\f23918dcfc6e43398a59dfa953161fbb\\metrics\\desktop.ini\n",
            "Deleted: mlruns\\934111576158212686\\f23918dcfc6e43398a59dfa953161fbb\\params\\desktop.ini\n",
            "Deleted: mlruns\\934111576158212686\\f23918dcfc6e43398a59dfa953161fbb\\artifacts\\desktop.ini\n",
            "Deleted: mlruns\\934111576158212686\\f23918dcfc6e43398a59dfa953161fbb\\tags\\desktop.ini\n",
            "Deleted: mlruns\\934111576158212686\\5d0d3e51a968463ea124717ea0738498\\desktop.ini\n",
            "Deleted: mlruns\\934111576158212686\\5d0d3e51a968463ea124717ea0738498\\metrics\\desktop.ini\n",
            "Deleted: mlruns\\934111576158212686\\5d0d3e51a968463ea124717ea0738498\\params\\desktop.ini\n",
            "Deleted: mlruns\\934111576158212686\\5d0d3e51a968463ea124717ea0738498\\artifacts\\desktop.ini\n",
            "Deleted: mlruns\\934111576158212686\\5d0d3e51a968463ea124717ea0738498\\tags\\desktop.ini\n",
            "Deleted: mlruns\\934111576158212686\\e6e3b6d7cfd4414f9bc04a5c1addc3cf\\desktop.ini\n",
            "Deleted: mlruns\\934111576158212686\\e6e3b6d7cfd4414f9bc04a5c1addc3cf\\metrics\\desktop.ini\n",
            "Deleted: mlruns\\934111576158212686\\e6e3b6d7cfd4414f9bc04a5c1addc3cf\\params\\desktop.ini\n",
            "Deleted: mlruns\\934111576158212686\\e6e3b6d7cfd4414f9bc04a5c1addc3cf\\artifacts\\desktop.ini\n",
            "Deleted: mlruns\\934111576158212686\\e6e3b6d7cfd4414f9bc04a5c1addc3cf\\tags\\desktop.ini\n",
            "Deleted: mlruns\\934111576158212686\\3c1679b586584cdf988100ff571be412\\desktop.ini\n",
            "Deleted: mlruns\\934111576158212686\\3c1679b586584cdf988100ff571be412\\metrics\\desktop.ini\n",
            "Deleted: mlruns\\934111576158212686\\3c1679b586584cdf988100ff571be412\\params\\desktop.ini\n",
            "Deleted: mlruns\\934111576158212686\\3c1679b586584cdf988100ff571be412\\artifacts\\desktop.ini\n",
            "Deleted: mlruns\\934111576158212686\\3c1679b586584cdf988100ff571be412\\tags\\desktop.ini\n",
            "Deleted: mlruns\\934111576158212686\\56cbf8c8cc1f4d17813ed6780c3daafa\\desktop.ini\n",
            "Deleted: mlruns\\934111576158212686\\56cbf8c8cc1f4d17813ed6780c3daafa\\metrics\\desktop.ini\n",
            "Deleted: mlruns\\934111576158212686\\56cbf8c8cc1f4d17813ed6780c3daafa\\params\\desktop.ini\n",
            "Deleted: mlruns\\934111576158212686\\56cbf8c8cc1f4d17813ed6780c3daafa\\artifacts\\desktop.ini\n",
            "Deleted: mlruns\\934111576158212686\\56cbf8c8cc1f4d17813ed6780c3daafa\\tags\\desktop.ini\n",
            "Deleted: mlruns\\934111576158212686\\666f1daa5c6742a2aa41e718a9f705d2\\desktop.ini\n",
            "Deleted: mlruns\\934111576158212686\\666f1daa5c6742a2aa41e718a9f705d2\\metrics\\desktop.ini\n",
            "Deleted: mlruns\\934111576158212686\\666f1daa5c6742a2aa41e718a9f705d2\\params\\desktop.ini\n",
            "Deleted: mlruns\\934111576158212686\\666f1daa5c6742a2aa41e718a9f705d2\\artifacts\\desktop.ini\n",
            "Deleted: mlruns\\934111576158212686\\666f1daa5c6742a2aa41e718a9f705d2\\tags\\desktop.ini\n",
            "Deleted: mlruns\\934111576158212686\\cdc4d7b234f94fa7a0da61ddd55cec31\\desktop.ini\n",
            "Deleted: mlruns\\934111576158212686\\cdc4d7b234f94fa7a0da61ddd55cec31\\metrics\\desktop.ini\n",
            "Deleted: mlruns\\934111576158212686\\cdc4d7b234f94fa7a0da61ddd55cec31\\params\\desktop.ini\n",
            "Deleted: mlruns\\934111576158212686\\cdc4d7b234f94fa7a0da61ddd55cec31\\artifacts\\desktop.ini\n",
            "Deleted: mlruns\\934111576158212686\\cdc4d7b234f94fa7a0da61ddd55cec31\\tags\\desktop.ini\n",
            "Deleted: mlruns\\934111576158212686\\042c25d2b8594440b27efa8b67715e60\\desktop.ini\n",
            "Deleted: mlruns\\934111576158212686\\042c25d2b8594440b27efa8b67715e60\\metrics\\desktop.ini\n",
            "Deleted: mlruns\\934111576158212686\\042c25d2b8594440b27efa8b67715e60\\params\\desktop.ini\n",
            "Deleted: mlruns\\934111576158212686\\042c25d2b8594440b27efa8b67715e60\\artifacts\\desktop.ini\n",
            "Deleted: mlruns\\934111576158212686\\042c25d2b8594440b27efa8b67715e60\\tags\\desktop.ini\n",
            "Deleted: mlruns\\934111576158212686\\4c5389b62df74180a738a172dce45163\\desktop.ini\n",
            "Deleted: mlruns\\934111576158212686\\4c5389b62df74180a738a172dce45163\\metrics\\desktop.ini\n",
            "Deleted: mlruns\\934111576158212686\\4c5389b62df74180a738a172dce45163\\params\\desktop.ini\n",
            "Deleted: mlruns\\934111576158212686\\4c5389b62df74180a738a172dce45163\\artifacts\\desktop.ini\n",
            "Deleted: mlruns\\934111576158212686\\4c5389b62df74180a738a172dce45163\\tags\\desktop.ini\n",
            "Deleted: mlruns\\934111576158212686\\a2bca96379ec498bac9902ad6369e9c8\\desktop.ini\n",
            "Deleted: mlruns\\934111576158212686\\a2bca96379ec498bac9902ad6369e9c8\\metrics\\desktop.ini\n",
            "Deleted: mlruns\\934111576158212686\\a2bca96379ec498bac9902ad6369e9c8\\params\\desktop.ini\n",
            "Deleted: mlruns\\934111576158212686\\a2bca96379ec498bac9902ad6369e9c8\\artifacts\\desktop.ini\n",
            "Deleted: mlruns\\934111576158212686\\a2bca96379ec498bac9902ad6369e9c8\\tags\\desktop.ini\n",
            "Deleted: mlruns\\934111576158212686\\178a1f6fc9f2485e80019b9c095d21ba\\desktop.ini\n",
            "Deleted: mlruns\\934111576158212686\\178a1f6fc9f2485e80019b9c095d21ba\\metrics\\desktop.ini\n",
            "Deleted: mlruns\\934111576158212686\\178a1f6fc9f2485e80019b9c095d21ba\\params\\desktop.ini\n",
            "Deleted: mlruns\\934111576158212686\\178a1f6fc9f2485e80019b9c095d21ba\\artifacts\\desktop.ini\n",
            "Deleted: mlruns\\934111576158212686\\178a1f6fc9f2485e80019b9c095d21ba\\tags\\desktop.ini\n",
            "Deleted: mlruns\\934111576158212686\\52c35cdab18a430385a6aba7a4e46e77\\desktop.ini\n",
            "Deleted: mlruns\\934111576158212686\\52c35cdab18a430385a6aba7a4e46e77\\metrics\\desktop.ini\n",
            "Deleted: mlruns\\934111576158212686\\52c35cdab18a430385a6aba7a4e46e77\\params\\desktop.ini\n",
            "Deleted: mlruns\\934111576158212686\\52c35cdab18a430385a6aba7a4e46e77\\artifacts\\desktop.ini\n",
            "Deleted: mlruns\\934111576158212686\\52c35cdab18a430385a6aba7a4e46e77\\tags\\desktop.ini\n",
            "Deleted: mlruns\\934111576158212686\\7746278c766e43fba5aa6f803d38bbd9\\desktop.ini\n",
            "Deleted: mlruns\\934111576158212686\\7746278c766e43fba5aa6f803d38bbd9\\metrics\\desktop.ini\n",
            "Deleted: mlruns\\934111576158212686\\7746278c766e43fba5aa6f803d38bbd9\\params\\desktop.ini\n",
            "Deleted: mlruns\\934111576158212686\\7746278c766e43fba5aa6f803d38bbd9\\artifacts\\desktop.ini\n",
            "Deleted: mlruns\\934111576158212686\\7746278c766e43fba5aa6f803d38bbd9\\tags\\desktop.ini\n",
            "Deleted: mlruns\\934111576158212686\\ba04663ee7894da1878899c0ca4e88a3\\desktop.ini\n",
            "Deleted: mlruns\\934111576158212686\\ba04663ee7894da1878899c0ca4e88a3\\metrics\\desktop.ini\n",
            "Deleted: mlruns\\934111576158212686\\ba04663ee7894da1878899c0ca4e88a3\\params\\desktop.ini\n",
            "Deleted: mlruns\\934111576158212686\\ba04663ee7894da1878899c0ca4e88a3\\artifacts\\desktop.ini\n",
            "Deleted: mlruns\\934111576158212686\\ba04663ee7894da1878899c0ca4e88a3\\tags\\desktop.ini\n",
            "Deleted: mlruns\\934111576158212686\\8a7fa644d72944e08267ff48b76b2388\\desktop.ini\n",
            "Deleted: mlruns\\934111576158212686\\8a7fa644d72944e08267ff48b76b2388\\metrics\\desktop.ini\n",
            "Deleted: mlruns\\934111576158212686\\8a7fa644d72944e08267ff48b76b2388\\params\\desktop.ini\n",
            "Deleted: mlruns\\934111576158212686\\8a7fa644d72944e08267ff48b76b2388\\artifacts\\desktop.ini\n",
            "Deleted: mlruns\\934111576158212686\\8a7fa644d72944e08267ff48b76b2388\\tags\\desktop.ini\n",
            "Deleted: mlruns\\934111576158212686\\196494a6794544f79b132fcbf51ef7d2\\desktop.ini\n",
            "Deleted: mlruns\\934111576158212686\\196494a6794544f79b132fcbf51ef7d2\\metrics\\desktop.ini\n",
            "Deleted: mlruns\\934111576158212686\\196494a6794544f79b132fcbf51ef7d2\\params\\desktop.ini\n",
            "Deleted: mlruns\\934111576158212686\\196494a6794544f79b132fcbf51ef7d2\\artifacts\\desktop.ini\n",
            "Deleted: mlruns\\934111576158212686\\196494a6794544f79b132fcbf51ef7d2\\tags\\desktop.ini\n",
            "Deleted: mlruns\\934111576158212686\\263ecedbafb74b7f81a1fde3ed76e971\\desktop.ini\n",
            "Deleted: mlruns\\934111576158212686\\263ecedbafb74b7f81a1fde3ed76e971\\metrics\\desktop.ini\n",
            "Deleted: mlruns\\934111576158212686\\263ecedbafb74b7f81a1fde3ed76e971\\params\\desktop.ini\n",
            "Deleted: mlruns\\934111576158212686\\263ecedbafb74b7f81a1fde3ed76e971\\artifacts\\desktop.ini\n",
            "Deleted: mlruns\\934111576158212686\\263ecedbafb74b7f81a1fde3ed76e971\\tags\\desktop.ini\n",
            "Deleted: mlruns\\934111576158212686\\4a8bce9ede6f44c5a91e065026ab9a05\\desktop.ini\n",
            "Deleted: mlruns\\934111576158212686\\4a8bce9ede6f44c5a91e065026ab9a05\\metrics\\desktop.ini\n",
            "Deleted: mlruns\\934111576158212686\\4a8bce9ede6f44c5a91e065026ab9a05\\params\\desktop.ini\n",
            "Deleted: mlruns\\934111576158212686\\4a8bce9ede6f44c5a91e065026ab9a05\\artifacts\\desktop.ini\n",
            "Deleted: mlruns\\934111576158212686\\4a8bce9ede6f44c5a91e065026ab9a05\\tags\\desktop.ini\n",
            "Deleted: mlruns\\934111576158212686\\040e45dcfdf0498bb73b5432e4f5c523\\desktop.ini\n",
            "Deleted: mlruns\\934111576158212686\\040e45dcfdf0498bb73b5432e4f5c523\\metrics\\desktop.ini\n",
            "Deleted: mlruns\\934111576158212686\\040e45dcfdf0498bb73b5432e4f5c523\\params\\desktop.ini\n",
            "Deleted: mlruns\\934111576158212686\\040e45dcfdf0498bb73b5432e4f5c523\\artifacts\\desktop.ini\n",
            "Deleted: mlruns\\934111576158212686\\040e45dcfdf0498bb73b5432e4f5c523\\tags\\desktop.ini\n",
            "Deleted: mlruns\\934111576158212686\\e2a67d8fb51d430cac3ebf4a49264abd\\desktop.ini\n",
            "Deleted: mlruns\\934111576158212686\\e2a67d8fb51d430cac3ebf4a49264abd\\metrics\\desktop.ini\n",
            "Deleted: mlruns\\934111576158212686\\e2a67d8fb51d430cac3ebf4a49264abd\\params\\desktop.ini\n",
            "Deleted: mlruns\\934111576158212686\\e2a67d8fb51d430cac3ebf4a49264abd\\artifacts\\desktop.ini\n",
            "Deleted: mlruns\\934111576158212686\\e2a67d8fb51d430cac3ebf4a49264abd\\tags\\desktop.ini\n",
            "Deleted: mlruns\\934111576158212686\\e8d7b5156ea64d8bb49f2ab65cd4c1b4\\desktop.ini\n",
            "Deleted: mlruns\\934111576158212686\\e8d7b5156ea64d8bb49f2ab65cd4c1b4\\metrics\\desktop.ini\n",
            "Deleted: mlruns\\934111576158212686\\e8d7b5156ea64d8bb49f2ab65cd4c1b4\\params\\desktop.ini\n",
            "Deleted: mlruns\\934111576158212686\\e8d7b5156ea64d8bb49f2ab65cd4c1b4\\artifacts\\desktop.ini\n",
            "Deleted: mlruns\\934111576158212686\\e8d7b5156ea64d8bb49f2ab65cd4c1b4\\tags\\desktop.ini\n",
            "Deleted: mlruns\\934111576158212686\\3bddd73116714887b23ec7de76ee00da\\desktop.ini\n",
            "Deleted: mlruns\\934111576158212686\\3bddd73116714887b23ec7de76ee00da\\metrics\\desktop.ini\n",
            "Deleted: mlruns\\934111576158212686\\3bddd73116714887b23ec7de76ee00da\\params\\desktop.ini\n",
            "Deleted: mlruns\\934111576158212686\\3bddd73116714887b23ec7de76ee00da\\artifacts\\desktop.ini\n",
            "Deleted: mlruns\\934111576158212686\\3bddd73116714887b23ec7de76ee00da\\tags\\desktop.ini\n",
            "Deleted: mlruns\\934111576158212686\\3347bfc6246641d1939f6e7b9329f3a0\\desktop.ini\n",
            "Deleted: mlruns\\934111576158212686\\3347bfc6246641d1939f6e7b9329f3a0\\metrics\\desktop.ini\n",
            "Deleted: mlruns\\934111576158212686\\3347bfc6246641d1939f6e7b9329f3a0\\params\\desktop.ini\n",
            "Deleted: mlruns\\934111576158212686\\3347bfc6246641d1939f6e7b9329f3a0\\artifacts\\desktop.ini\n",
            "Deleted: mlruns\\934111576158212686\\3347bfc6246641d1939f6e7b9329f3a0\\tags\\desktop.ini\n",
            "Deleted: mlruns\\934111576158212686\\01276158280f4018a9a105ca1e2f31e4\\desktop.ini\n",
            "Deleted: mlruns\\934111576158212686\\01276158280f4018a9a105ca1e2f31e4\\metrics\\desktop.ini\n",
            "Deleted: mlruns\\934111576158212686\\01276158280f4018a9a105ca1e2f31e4\\params\\desktop.ini\n",
            "Deleted: mlruns\\934111576158212686\\01276158280f4018a9a105ca1e2f31e4\\artifacts\\desktop.ini\n",
            "Deleted: mlruns\\934111576158212686\\01276158280f4018a9a105ca1e2f31e4\\tags\\desktop.ini\n",
            "Deleted: mlruns\\934111576158212686\\53c3f3c0d7c2453cb3f71daa0f08fa83\\desktop.ini\n",
            "Deleted: mlruns\\934111576158212686\\53c3f3c0d7c2453cb3f71daa0f08fa83\\metrics\\desktop.ini\n",
            "Deleted: mlruns\\934111576158212686\\53c3f3c0d7c2453cb3f71daa0f08fa83\\params\\desktop.ini\n",
            "Deleted: mlruns\\934111576158212686\\53c3f3c0d7c2453cb3f71daa0f08fa83\\artifacts\\desktop.ini\n",
            "Deleted: mlruns\\934111576158212686\\53c3f3c0d7c2453cb3f71daa0f08fa83\\tags\\desktop.ini\n",
            "Deleted: mlruns\\934111576158212686\\322917cb88ff41d9a4b48d7bf66bc3fd\\desktop.ini\n",
            "Deleted: mlruns\\934111576158212686\\322917cb88ff41d9a4b48d7bf66bc3fd\\metrics\\desktop.ini\n",
            "Deleted: mlruns\\934111576158212686\\322917cb88ff41d9a4b48d7bf66bc3fd\\params\\desktop.ini\n",
            "Deleted: mlruns\\934111576158212686\\322917cb88ff41d9a4b48d7bf66bc3fd\\artifacts\\desktop.ini\n",
            "Deleted: mlruns\\934111576158212686\\322917cb88ff41d9a4b48d7bf66bc3fd\\tags\\desktop.ini\n",
            "Deleted: mlruns\\934111576158212686\\4d478bddf0b549feae8662b708ce44fa\\desktop.ini\n",
            "Deleted: mlruns\\934111576158212686\\4d478bddf0b549feae8662b708ce44fa\\metrics\\desktop.ini\n",
            "Deleted: mlruns\\934111576158212686\\4d478bddf0b549feae8662b708ce44fa\\params\\desktop.ini\n",
            "Deleted: mlruns\\934111576158212686\\4d478bddf0b549feae8662b708ce44fa\\artifacts\\desktop.ini\n",
            "Deleted: mlruns\\934111576158212686\\4d478bddf0b549feae8662b708ce44fa\\tags\\desktop.ini\n",
            "Deleted: mlruns\\934111576158212686\\10426b4815584b4fb60f4a4a76956eb4\\desktop.ini\n",
            "Deleted: mlruns\\934111576158212686\\10426b4815584b4fb60f4a4a76956eb4\\metrics\\desktop.ini\n",
            "Deleted: mlruns\\934111576158212686\\10426b4815584b4fb60f4a4a76956eb4\\params\\desktop.ini\n",
            "Deleted: mlruns\\934111576158212686\\10426b4815584b4fb60f4a4a76956eb4\\artifacts\\desktop.ini\n",
            "Deleted: mlruns\\934111576158212686\\10426b4815584b4fb60f4a4a76956eb4\\tags\\desktop.ini\n",
            "Deleted: mlruns\\934111576158212686\\11c60b8b5fa549e78209ea0212aa9746\\desktop.ini\n",
            "Deleted: mlruns\\934111576158212686\\11c60b8b5fa549e78209ea0212aa9746\\metrics\\desktop.ini\n",
            "Deleted: mlruns\\934111576158212686\\11c60b8b5fa549e78209ea0212aa9746\\params\\desktop.ini\n",
            "Deleted: mlruns\\934111576158212686\\11c60b8b5fa549e78209ea0212aa9746\\artifacts\\desktop.ini\n",
            "Deleted: mlruns\\934111576158212686\\11c60b8b5fa549e78209ea0212aa9746\\tags\\desktop.ini\n",
            "Deleted: mlruns\\934111576158212686\\e0a6c66a0ba24d1489e2241bc9853a3f\\desktop.ini\n",
            "Deleted: mlruns\\934111576158212686\\e0a6c66a0ba24d1489e2241bc9853a3f\\metrics\\desktop.ini\n",
            "Deleted: mlruns\\934111576158212686\\e0a6c66a0ba24d1489e2241bc9853a3f\\params\\desktop.ini\n",
            "Deleted: mlruns\\934111576158212686\\e0a6c66a0ba24d1489e2241bc9853a3f\\artifacts\\desktop.ini\n",
            "Deleted: mlruns\\934111576158212686\\e0a6c66a0ba24d1489e2241bc9853a3f\\tags\\desktop.ini\n",
            "Deleted: mlruns\\934111576158212686\\929b5cefab884561b0636889da40014f\\desktop.ini\n",
            "Deleted: mlruns\\934111576158212686\\929b5cefab884561b0636889da40014f\\metrics\\desktop.ini\n",
            "Deleted: mlruns\\934111576158212686\\929b5cefab884561b0636889da40014f\\params\\desktop.ini\n",
            "Deleted: mlruns\\934111576158212686\\929b5cefab884561b0636889da40014f\\artifacts\\desktop.ini\n",
            "Deleted: mlruns\\934111576158212686\\929b5cefab884561b0636889da40014f\\tags\\desktop.ini\n",
            "Deleted: mlruns\\934111576158212686\\5c1ba05944244a8dbd06a50e406e5019\\desktop.ini\n",
            "Deleted: mlruns\\934111576158212686\\5c1ba05944244a8dbd06a50e406e5019\\metrics\\desktop.ini\n",
            "Deleted: mlruns\\934111576158212686\\5c1ba05944244a8dbd06a50e406e5019\\params\\desktop.ini\n",
            "Deleted: mlruns\\934111576158212686\\5c1ba05944244a8dbd06a50e406e5019\\artifacts\\desktop.ini\n",
            "Deleted: mlruns\\934111576158212686\\5c1ba05944244a8dbd06a50e406e5019\\tags\\desktop.ini\n",
            "Deleted: mlruns\\934111576158212686\\b0ce031da605448094172320b0048f27\\desktop.ini\n",
            "Deleted: mlruns\\934111576158212686\\b0ce031da605448094172320b0048f27\\metrics\\desktop.ini\n",
            "Deleted: mlruns\\934111576158212686\\b0ce031da605448094172320b0048f27\\params\\desktop.ini\n",
            "Deleted: mlruns\\934111576158212686\\b0ce031da605448094172320b0048f27\\artifacts\\desktop.ini\n",
            "Deleted: mlruns\\934111576158212686\\b0ce031da605448094172320b0048f27\\tags\\desktop.ini\n",
            "Deleted: mlruns\\934111576158212686\\0f3a95e3c2f6417ea084d83e9d42362a\\desktop.ini\n",
            "Deleted: mlruns\\934111576158212686\\0f3a95e3c2f6417ea084d83e9d42362a\\metrics\\desktop.ini\n",
            "Deleted: mlruns\\934111576158212686\\0f3a95e3c2f6417ea084d83e9d42362a\\params\\desktop.ini\n",
            "Deleted: mlruns\\934111576158212686\\0f3a95e3c2f6417ea084d83e9d42362a\\artifacts\\desktop.ini\n",
            "Deleted: mlruns\\934111576158212686\\0f3a95e3c2f6417ea084d83e9d42362a\\tags\\desktop.ini\n",
            "Deleted: mlruns\\934111576158212686\\b48f85be50ab42a39c6bd5a5745a510c\\desktop.ini\n",
            "Deleted: mlruns\\934111576158212686\\b48f85be50ab42a39c6bd5a5745a510c\\metrics\\desktop.ini\n",
            "Deleted: mlruns\\934111576158212686\\b48f85be50ab42a39c6bd5a5745a510c\\params\\desktop.ini\n",
            "Deleted: mlruns\\934111576158212686\\b48f85be50ab42a39c6bd5a5745a510c\\artifacts\\desktop.ini\n",
            "Deleted: mlruns\\934111576158212686\\b48f85be50ab42a39c6bd5a5745a510c\\tags\\desktop.ini\n",
            "Deleted: mlruns\\934111576158212686\\2c6a11fcf44b48178a23ff24ba34b93e\\desktop.ini\n",
            "Deleted: mlruns\\934111576158212686\\2c6a11fcf44b48178a23ff24ba34b93e\\metrics\\desktop.ini\n",
            "Deleted: mlruns\\934111576158212686\\2c6a11fcf44b48178a23ff24ba34b93e\\params\\desktop.ini\n",
            "Deleted: mlruns\\934111576158212686\\2c6a11fcf44b48178a23ff24ba34b93e\\artifacts\\desktop.ini\n",
            "Deleted: mlruns\\934111576158212686\\2c6a11fcf44b48178a23ff24ba34b93e\\tags\\desktop.ini\n",
            "Deleted: mlruns\\934111576158212686\\4d18bcbefbed4d5ea3c802365d3c6e6d\\desktop.ini\n",
            "Deleted: mlruns\\934111576158212686\\4d18bcbefbed4d5ea3c802365d3c6e6d\\metrics\\desktop.ini\n",
            "Deleted: mlruns\\934111576158212686\\4d18bcbefbed4d5ea3c802365d3c6e6d\\params\\desktop.ini\n",
            "Deleted: mlruns\\934111576158212686\\4d18bcbefbed4d5ea3c802365d3c6e6d\\artifacts\\desktop.ini\n",
            "Deleted: mlruns\\934111576158212686\\4d18bcbefbed4d5ea3c802365d3c6e6d\\tags\\desktop.ini\n",
            "Deleted: mlruns\\934111576158212686\\5bc362eb39d049099df7867a3817e280\\desktop.ini\n",
            "Deleted: mlruns\\934111576158212686\\5bc362eb39d049099df7867a3817e280\\metrics\\desktop.ini\n",
            "Deleted: mlruns\\934111576158212686\\5bc362eb39d049099df7867a3817e280\\params\\desktop.ini\n",
            "Deleted: mlruns\\934111576158212686\\5bc362eb39d049099df7867a3817e280\\artifacts\\desktop.ini\n",
            "Deleted: mlruns\\934111576158212686\\5bc362eb39d049099df7867a3817e280\\tags\\desktop.ini\n",
            "Deleted: mlruns\\934111576158212686\\a0c91cc2d99f406783413cbb42a02caf\\desktop.ini\n",
            "Deleted: mlruns\\934111576158212686\\a0c91cc2d99f406783413cbb42a02caf\\metrics\\desktop.ini\n",
            "Deleted: mlruns\\934111576158212686\\a0c91cc2d99f406783413cbb42a02caf\\params\\desktop.ini\n",
            "Deleted: mlruns\\934111576158212686\\a0c91cc2d99f406783413cbb42a02caf\\artifacts\\desktop.ini\n",
            "Deleted: mlruns\\934111576158212686\\a0c91cc2d99f406783413cbb42a02caf\\tags\\desktop.ini\n",
            "Deleted: mlruns\\934111576158212686\\c6fa8c1b0c8a463796c23431e5bf5f2e\\desktop.ini\n",
            "Deleted: mlruns\\934111576158212686\\c6fa8c1b0c8a463796c23431e5bf5f2e\\metrics\\desktop.ini\n",
            "Deleted: mlruns\\934111576158212686\\c6fa8c1b0c8a463796c23431e5bf5f2e\\params\\desktop.ini\n",
            "Deleted: mlruns\\934111576158212686\\c6fa8c1b0c8a463796c23431e5bf5f2e\\artifacts\\desktop.ini\n",
            "Deleted: mlruns\\934111576158212686\\c6fa8c1b0c8a463796c23431e5bf5f2e\\tags\\desktop.ini\n",
            "Deleted: mlruns\\934111576158212686\\afd5a2c02e844599b714d4795964ee91\\desktop.ini\n",
            "Deleted: mlruns\\934111576158212686\\afd5a2c02e844599b714d4795964ee91\\metrics\\desktop.ini\n",
            "Deleted: mlruns\\934111576158212686\\afd5a2c02e844599b714d4795964ee91\\params\\desktop.ini\n",
            "Deleted: mlruns\\934111576158212686\\afd5a2c02e844599b714d4795964ee91\\artifacts\\desktop.ini\n",
            "Deleted: mlruns\\934111576158212686\\afd5a2c02e844599b714d4795964ee91\\tags\\desktop.ini\n",
            "Deleted: mlruns\\934111576158212686\\b158e021a00d473d8397f4e54aedc309\\desktop.ini\n",
            "Deleted: mlruns\\934111576158212686\\b158e021a00d473d8397f4e54aedc309\\metrics\\desktop.ini\n",
            "Deleted: mlruns\\934111576158212686\\b158e021a00d473d8397f4e54aedc309\\params\\desktop.ini\n",
            "Deleted: mlruns\\934111576158212686\\b158e021a00d473d8397f4e54aedc309\\artifacts\\desktop.ini\n",
            "Deleted: mlruns\\934111576158212686\\b158e021a00d473d8397f4e54aedc309\\tags\\desktop.ini\n",
            "Deleted: mlruns\\934111576158212686\\6008d70bdf5f4940872159092a4bcd9a\\desktop.ini\n",
            "Deleted: mlruns\\934111576158212686\\6008d70bdf5f4940872159092a4bcd9a\\metrics\\desktop.ini\n",
            "Deleted: mlruns\\934111576158212686\\6008d70bdf5f4940872159092a4bcd9a\\params\\desktop.ini\n",
            "Deleted: mlruns\\934111576158212686\\6008d70bdf5f4940872159092a4bcd9a\\artifacts\\desktop.ini\n",
            "Deleted: mlruns\\934111576158212686\\6008d70bdf5f4940872159092a4bcd9a\\tags\\desktop.ini\n",
            "Deleted: mlruns\\934111576158212686\\8259431ee87d41d29a88a7d9d71b8155\\desktop.ini\n",
            "Deleted: mlruns\\934111576158212686\\8259431ee87d41d29a88a7d9d71b8155\\metrics\\desktop.ini\n",
            "Deleted: mlruns\\934111576158212686\\8259431ee87d41d29a88a7d9d71b8155\\params\\desktop.ini\n",
            "Deleted: mlruns\\934111576158212686\\8259431ee87d41d29a88a7d9d71b8155\\artifacts\\desktop.ini\n",
            "Deleted: mlruns\\934111576158212686\\8259431ee87d41d29a88a7d9d71b8155\\tags\\desktop.ini\n",
            "Deleted: mlruns\\934111576158212686\\6a376cada8544fc08586fe74669c94a8\\desktop.ini\n",
            "Deleted: mlruns\\934111576158212686\\6a376cada8544fc08586fe74669c94a8\\metrics\\desktop.ini\n",
            "Deleted: mlruns\\934111576158212686\\6a376cada8544fc08586fe74669c94a8\\params\\desktop.ini\n",
            "Deleted: mlruns\\934111576158212686\\6a376cada8544fc08586fe74669c94a8\\artifacts\\desktop.ini\n",
            "Deleted: mlruns\\934111576158212686\\6a376cada8544fc08586fe74669c94a8\\tags\\desktop.ini\n",
            "Deleted: mlruns\\934111576158212686\\e8295247f98c4fd7abaff29deb49de8a\\desktop.ini\n",
            "Deleted: mlruns\\934111576158212686\\e8295247f98c4fd7abaff29deb49de8a\\metrics\\desktop.ini\n",
            "Deleted: mlruns\\934111576158212686\\e8295247f98c4fd7abaff29deb49de8a\\params\\desktop.ini\n",
            "Deleted: mlruns\\934111576158212686\\e8295247f98c4fd7abaff29deb49de8a\\artifacts\\desktop.ini\n",
            "Deleted: mlruns\\934111576158212686\\e8295247f98c4fd7abaff29deb49de8a\\tags\\desktop.ini\n",
            "Deleted: mlruns\\934111576158212686\\ace89f90765541fa8ecdf94db80cce48\\desktop.ini\n",
            "Deleted: mlruns\\934111576158212686\\ace89f90765541fa8ecdf94db80cce48\\metrics\\desktop.ini\n",
            "Deleted: mlruns\\934111576158212686\\ace89f90765541fa8ecdf94db80cce48\\params\\desktop.ini\n",
            "Deleted: mlruns\\934111576158212686\\ace89f90765541fa8ecdf94db80cce48\\artifacts\\desktop.ini\n",
            "Deleted: mlruns\\934111576158212686\\ace89f90765541fa8ecdf94db80cce48\\tags\\desktop.ini\n",
            "Deleted: mlruns\\934111576158212686\\b218b08276da4468977a24c7b7071173\\desktop.ini\n",
            "Deleted: mlruns\\934111576158212686\\b218b08276da4468977a24c7b7071173\\metrics\\desktop.ini\n",
            "Deleted: mlruns\\934111576158212686\\b218b08276da4468977a24c7b7071173\\params\\desktop.ini\n",
            "Deleted: mlruns\\934111576158212686\\b218b08276da4468977a24c7b7071173\\artifacts\\desktop.ini\n",
            "Deleted: mlruns\\934111576158212686\\b218b08276da4468977a24c7b7071173\\tags\\desktop.ini\n",
            "Deleted: mlruns\\934111576158212686\\af6d5452553e466aa5beca79305246e7\\desktop.ini\n",
            "Deleted: mlruns\\934111576158212686\\af6d5452553e466aa5beca79305246e7\\metrics\\desktop.ini\n",
            "Deleted: mlruns\\934111576158212686\\af6d5452553e466aa5beca79305246e7\\params\\desktop.ini\n",
            "Deleted: mlruns\\934111576158212686\\af6d5452553e466aa5beca79305246e7\\artifacts\\desktop.ini\n",
            "Deleted: mlruns\\934111576158212686\\af6d5452553e466aa5beca79305246e7\\tags\\desktop.ini\n",
            "Deleted: mlruns\\934111576158212686\\87478c88968c428f98a758388e495262\\desktop.ini\n",
            "Deleted: mlruns\\934111576158212686\\87478c88968c428f98a758388e495262\\metrics\\desktop.ini\n",
            "Deleted: mlruns\\934111576158212686\\87478c88968c428f98a758388e495262\\params\\desktop.ini\n",
            "Deleted: mlruns\\934111576158212686\\87478c88968c428f98a758388e495262\\artifacts\\desktop.ini\n",
            "Deleted: mlruns\\934111576158212686\\87478c88968c428f98a758388e495262\\tags\\desktop.ini\n",
            "Deleted: mlruns\\934111576158212686\\f17e1a477962405b9e1360c460923f88\\desktop.ini\n",
            "Deleted: mlruns\\934111576158212686\\f17e1a477962405b9e1360c460923f88\\metrics\\desktop.ini\n",
            "Deleted: mlruns\\934111576158212686\\f17e1a477962405b9e1360c460923f88\\params\\desktop.ini\n",
            "Deleted: mlruns\\934111576158212686\\f17e1a477962405b9e1360c460923f88\\artifacts\\desktop.ini\n",
            "Deleted: mlruns\\934111576158212686\\f17e1a477962405b9e1360c460923f88\\tags\\desktop.ini\n",
            "Deleted: mlruns\\934111576158212686\\a8cf8755b0af4688939f5d2199775cd8\\desktop.ini\n",
            "Deleted: mlruns\\934111576158212686\\a8cf8755b0af4688939f5d2199775cd8\\metrics\\desktop.ini\n",
            "Deleted: mlruns\\934111576158212686\\a8cf8755b0af4688939f5d2199775cd8\\params\\desktop.ini\n",
            "Deleted: mlruns\\934111576158212686\\a8cf8755b0af4688939f5d2199775cd8\\artifacts\\desktop.ini\n",
            "Deleted: mlruns\\934111576158212686\\a8cf8755b0af4688939f5d2199775cd8\\tags\\desktop.ini\n",
            "Deleted: mlruns\\934111576158212686\\c02a34cac469437685b90cbbd20be8eb\\desktop.ini\n",
            "Deleted: mlruns\\934111576158212686\\c02a34cac469437685b90cbbd20be8eb\\metrics\\desktop.ini\n",
            "Deleted: mlruns\\934111576158212686\\c02a34cac469437685b90cbbd20be8eb\\params\\desktop.ini\n",
            "Deleted: mlruns\\934111576158212686\\c02a34cac469437685b90cbbd20be8eb\\artifacts\\desktop.ini\n",
            "Deleted: mlruns\\934111576158212686\\c02a34cac469437685b90cbbd20be8eb\\tags\\desktop.ini\n",
            "Deleted: mlruns\\934111576158212686\\87c6b1294c834ef089b042150593cf82\\desktop.ini\n",
            "Deleted: mlruns\\934111576158212686\\87c6b1294c834ef089b042150593cf82\\metrics\\desktop.ini\n",
            "Deleted: mlruns\\934111576158212686\\87c6b1294c834ef089b042150593cf82\\params\\desktop.ini\n",
            "Deleted: mlruns\\934111576158212686\\87c6b1294c834ef089b042150593cf82\\artifacts\\desktop.ini\n",
            "Deleted: mlruns\\934111576158212686\\87c6b1294c834ef089b042150593cf82\\tags\\desktop.ini\n",
            "Deleted: mlruns\\934111576158212686\\8f558407aa664ec5aa9992bcffd1249a\\desktop.ini\n",
            "Deleted: mlruns\\934111576158212686\\8f558407aa664ec5aa9992bcffd1249a\\metrics\\desktop.ini\n",
            "Deleted: mlruns\\934111576158212686\\8f558407aa664ec5aa9992bcffd1249a\\params\\desktop.ini\n",
            "Deleted: mlruns\\934111576158212686\\8f558407aa664ec5aa9992bcffd1249a\\artifacts\\desktop.ini\n",
            "Deleted: mlruns\\934111576158212686\\8f558407aa664ec5aa9992bcffd1249a\\tags\\desktop.ini\n",
            "Deleted: mlruns\\934111576158212686\\8c65d5c4924b4f10ad60eeb1a0cca141\\desktop.ini\n",
            "Deleted: mlruns\\934111576158212686\\8c65d5c4924b4f10ad60eeb1a0cca141\\metrics\\desktop.ini\n",
            "Deleted: mlruns\\934111576158212686\\8c65d5c4924b4f10ad60eeb1a0cca141\\params\\desktop.ini\n",
            "Deleted: mlruns\\934111576158212686\\8c65d5c4924b4f10ad60eeb1a0cca141\\artifacts\\desktop.ini\n",
            "Deleted: mlruns\\934111576158212686\\8c65d5c4924b4f10ad60eeb1a0cca141\\tags\\desktop.ini\n",
            "Deleted: mlruns\\934111576158212686\\5b0026018e68416e85c874fed0b44357\\desktop.ini\n",
            "Deleted: mlruns\\934111576158212686\\5b0026018e68416e85c874fed0b44357\\metrics\\desktop.ini\n",
            "Deleted: mlruns\\934111576158212686\\5b0026018e68416e85c874fed0b44357\\params\\desktop.ini\n",
            "Deleted: mlruns\\934111576158212686\\5b0026018e68416e85c874fed0b44357\\artifacts\\desktop.ini\n",
            "Deleted: mlruns\\934111576158212686\\5b0026018e68416e85c874fed0b44357\\tags\\desktop.ini\n"
          ]
        }
      ],
      "source": [
        "# Nettoyage des fichiers desktop.ini créés en local\n",
        "# A effectuer avant toute visualisation\n",
        "import glob\n",
        "import os\n",
        "\n",
        "# Définir le chemin de base où rechercher les fichiers `desktop.ini`\n",
        "base_path = \"mlruns/**/desktop.ini\"\n",
        "\n",
        "# Utiliser `glob.glob` avec l'option `recursive=True` pour trouver tous les fichiers correspondants\n",
        "# dans le dossier et ses sous-dossiers.\n",
        "desktop_ini_files = glob.glob(base_path, recursive=True)\n",
        "\n",
        "# Parcourir la liste des chemins de fichiers trouvés et les supprimer\n",
        "for file_path in desktop_ini_files:\n",
        "    os.remove(file_path)\n",
        "    print(f\"Deleted: {file_path}\")"
      ]
    }
  ],
  "metadata": {
    "accelerator": "GPU",
    "colab": {
      "collapsed_sections": [
        "oIXZlpEcTVwv"
      ],
      "gpuType": "T4",
      "provenance": []
    },
    "kaggle": {
      "accelerator": "none",
      "dataSources": [
        {
          "datasetId": 4431978,
          "sourceId": 7611190,
          "sourceType": "datasetVersion"
        },
        {
          "datasetId": 4442226,
          "sourceId": 7663205,
          "sourceType": "datasetVersion"
        },
        {
          "datasetId": 4432935,
          "sourceId": 7764870,
          "sourceType": "datasetVersion"
        },
        {
          "modelInstanceId": 4596,
          "sourceId": 6125,
          "sourceType": "modelInstanceVersion"
        },
        {
          "modelInstanceId": 4664,
          "sourceId": 6167,
          "sourceType": "modelInstanceVersion"
        }
      ],
      "dockerImageVersionId": 30648,
      "isGpuEnabled": false,
      "isInternetEnabled": true,
      "language": "python",
      "sourceType": "notebook"
    },
    "kernelspec": {
      "display_name": "Python 3",
      "name": "python3"
    },
    "language_info": {
      "codemirror_mode": {
        "name": "ipython",
        "version": 3
      },
      "file_extension": ".py",
      "mimetype": "text/x-python",
      "name": "python",
      "nbconvert_exporter": "python",
      "pygments_lexer": "ipython3",
      "version": "3.11.9"
    }
  },
  "nbformat": 4,
  "nbformat_minor": 0
}
